{
  "nbformat": 4,
  "nbformat_minor": 0,
  "metadata": {
    "colab": {
      "provenance": []
    },
    "kernelspec": {
      "name": "python3",
      "display_name": "Python 3"
    },
    "language_info": {
      "name": "python"
    },
    "gpuClass": "premium"
  },
  "cells": [
    {
      "cell_type": "markdown",
      "source": [
        "# Решение тестового задания на Data Science стажировку от Контур.\n",
        "**Воронов Роман**, студент 2 курса Data Science трека университета Иннополис. Родной город: Екатеринбург"
      ],
      "metadata": {
        "id": "jlO3dKchjYjI"
      }
    },
    {
      "cell_type": "markdown",
      "source": [
        "# Содержание\n",
        "- Поверхностный анализ набора данных и извлекаемых фрагментов\n",
        "\n",
        "- Работа с меткой \"обеспечение гарантийных обязательств\"\n",
        "- - [Подробный анализ фрагментов для метки \"обеспечение гарантийных обязательств\"](#scrollTo=6Yr44XjW7Ivk)\n",
        "\n",
        "- - - [Подготовка spacy](#scrollTo=KwxhBOdE_RAE)\n",
        "\n",
        "- - [Создание модели на поиск фрагментов для \"обеспечение гарантийных обязательств\"](#scrollTo=t89mNHxyYm9B)\n",
        "\n",
        "- Работа с меткой \"обеспечение исполнения контракта\"\n",
        "\n",
        "- - [Подробный анализ фрагментов для метки \"обеспечение исполнения контракта\"](#scrollTo=23f6e707JGab)\n",
        "\n",
        "- - [Создание модели на поиск фрагментов для \"обеспечение исполнения контракта\"](#scrollTo=zMoFwlJCQLXE)\n",
        "\n",
        "- [Предсказание фрагментов, сохранение датафреймов](#scrollTo=f5R6ZzTO8oH-)\n",
        "\n",
        "- [Дообучение одного из компонентов spacy на распознавание фрагментов по двум данным меткам](#scrollTo=bbOjUvEABRRX)"
      ],
      "metadata": {
        "id": "9XBkY-v3_bc-"
      }
    },
    {
      "cell_type": "markdown",
      "source": [
        "# 1. Поверхностный анализ набора данных и извлекаемых фрагментов\n",
        "В этой части будет анализ не требующий глубоких знаний, продвинутых библиотек. Установка и импорт библиотек, небольшой препроцессинг данных и легкий анализ фрагментов: количество слов, длина предложений и так далее\n"
      ],
      "metadata": {
        "id": "qvDWVd3Q_ps_"
      }
    },
    {
      "cell_type": "code",
      "execution_count": null,
      "metadata": {
        "id": "RA4rG6evAQGc"
      },
      "outputs": [],
      "source": [
        "from google.colab import drive, output\n",
        "import pandas as pd\n",
        "import numpy as np\n",
        "import random\n",
        "import tqdm as tqdm\n",
        "!pip install visualise_spacy_tree\n",
        "import visualise_spacy_tree\n",
        "from IPython.display import Image, display\n",
        "import re\n",
        "import matplotlib.pyplot as plt\n",
        "import seaborn as sns\n",
        "import tqdm as tqdm\n",
        "!pip install pymorphy2\n",
        "import pymorphy2\n",
        "from tqdm import tqdm\n",
        "tqdm.pandas()\n",
        "from collections import Counter\n",
        "!pip install spacy==3.5.0\n",
        "import spacy\n",
        "from spacy import displacy\n",
        "from spacy.tokens import DocBin\n",
        "from spacy.util import minibatch, compounding\n",
        "from spacy.training.example import Example\n",
        "from spacy.training import offsets_to_biluo_tags\n",
        "from spacy.language import Language\n",
        "\n",
        "drive.mount(\"/content/drive\")\n",
        "output.clear()"
      ]
    },
    {
      "cell_type": "code",
      "source": [
        "import locale\n",
        "def getpreferredencoding(do_setlocale = True):\n",
        "    return \"UTF-8\"\n",
        "locale.getpreferredencoding = getpreferredencoding"
      ],
      "metadata": {
        "id": "xeQFF9SpwdK-"
      },
      "execution_count": null,
      "outputs": []
    },
    {
      "cell_type": "code",
      "source": [
        "!python -m spacy download ru_core_news_lg # Установка модели spacy для русского языка\n",
        "output.clear()"
      ],
      "metadata": {
        "id": "125z9qpSyJas"
      },
      "execution_count": null,
      "outputs": []
    },
    {
      "cell_type": "code",
      "source": [
        "nlp = spacy.load(\"ru_core_news_lg\", disable = [\"ner\"])\n",
        "#nlp = spacy.load(\"ru_core_news_lg\")"
      ],
      "metadata": {
        "id": "SxCkrr6s9zzo"
      },
      "execution_count": null,
      "outputs": []
    },
    {
      "cell_type": "code",
      "source": [
        "analyzer = pymorphy2.MorphAnalyzer() # Лемматизация"
      ],
      "metadata": {
        "id": "ho7vZoklEesM"
      },
      "execution_count": null,
      "outputs": []
    },
    {
      "cell_type": "code",
      "source": [
        "train_df = pd.read_json(\"/content/drive/MyDrive/nlp_test_task_2023/dataset/train.json\")\n",
        "test_df = pd.read_json(\"/content/drive/MyDrive/nlp_test_task_2023/dataset/test.json\")\n",
        "train_df.head(2)"
      ],
      "metadata": {
        "colab": {
          "base_uri": "https://localhost:8080/",
          "height": 190
        },
        "id": "zUsWaquGBo-R",
        "outputId": "38334885-f744-4aee-8690-16e3bc80b80c"
      },
      "execution_count": null,
      "outputs": [
        {
          "output_type": "execute_result",
          "data": {
            "text/plain": [
              "          id                                               text  \\\n",
              "0  809436509  Извещение о проведении открытого конкурса в эл...   \n",
              "1  854885310  ТРЕБОВАНИЯ К СОДЕРЖАНИЮ ЗАЯВКИ участника запро...   \n",
              "\n",
              "                              label  \\\n",
              "0  обеспечение исполнения контракта   \n",
              "1  обеспечение исполнения контракта   \n",
              "\n",
              "                                      extracted_part  \n",
              "0  {'text': ['Размер обеспечения исполнения контр...  \n",
              "1  {'text': ['Поставщик должен предоставить обесп...  "
            ],
            "text/html": [
              "\n",
              "  <div id=\"df-87a1ca0f-69b2-4929-86cc-0727254e5be6\">\n",
              "    <div class=\"colab-df-container\">\n",
              "      <div>\n",
              "<style scoped>\n",
              "    .dataframe tbody tr th:only-of-type {\n",
              "        vertical-align: middle;\n",
              "    }\n",
              "\n",
              "    .dataframe tbody tr th {\n",
              "        vertical-align: top;\n",
              "    }\n",
              "\n",
              "    .dataframe thead th {\n",
              "        text-align: right;\n",
              "    }\n",
              "</style>\n",
              "<table border=\"1\" class=\"dataframe\">\n",
              "  <thead>\n",
              "    <tr style=\"text-align: right;\">\n",
              "      <th></th>\n",
              "      <th>id</th>\n",
              "      <th>text</th>\n",
              "      <th>label</th>\n",
              "      <th>extracted_part</th>\n",
              "    </tr>\n",
              "  </thead>\n",
              "  <tbody>\n",
              "    <tr>\n",
              "      <th>0</th>\n",
              "      <td>809436509</td>\n",
              "      <td>Извещение о проведении открытого конкурса в эл...</td>\n",
              "      <td>обеспечение исполнения контракта</td>\n",
              "      <td>{'text': ['Размер обеспечения исполнения контр...</td>\n",
              "    </tr>\n",
              "    <tr>\n",
              "      <th>1</th>\n",
              "      <td>854885310</td>\n",
              "      <td>ТРЕБОВАНИЯ К СОДЕРЖАНИЮ ЗАЯВКИ участника запро...</td>\n",
              "      <td>обеспечение исполнения контракта</td>\n",
              "      <td>{'text': ['Поставщик должен предоставить обесп...</td>\n",
              "    </tr>\n",
              "  </tbody>\n",
              "</table>\n",
              "</div>\n",
              "      <button class=\"colab-df-convert\" onclick=\"convertToInteractive('df-87a1ca0f-69b2-4929-86cc-0727254e5be6')\"\n",
              "              title=\"Convert this dataframe to an interactive table.\"\n",
              "              style=\"display:none;\">\n",
              "        \n",
              "  <svg xmlns=\"http://www.w3.org/2000/svg\" height=\"24px\"viewBox=\"0 0 24 24\"\n",
              "       width=\"24px\">\n",
              "    <path d=\"M0 0h24v24H0V0z\" fill=\"none\"/>\n",
              "    <path d=\"M18.56 5.44l.94 2.06.94-2.06 2.06-.94-2.06-.94-.94-2.06-.94 2.06-2.06.94zm-11 1L8.5 8.5l.94-2.06 2.06-.94-2.06-.94L8.5 2.5l-.94 2.06-2.06.94zm10 10l.94 2.06.94-2.06 2.06-.94-2.06-.94-.94-2.06-.94 2.06-2.06.94z\"/><path d=\"M17.41 7.96l-1.37-1.37c-.4-.4-.92-.59-1.43-.59-.52 0-1.04.2-1.43.59L10.3 9.45l-7.72 7.72c-.78.78-.78 2.05 0 2.83L4 21.41c.39.39.9.59 1.41.59.51 0 1.02-.2 1.41-.59l7.78-7.78 2.81-2.81c.8-.78.8-2.07 0-2.86zM5.41 20L4 18.59l7.72-7.72 1.47 1.35L5.41 20z\"/>\n",
              "  </svg>\n",
              "      </button>\n",
              "      \n",
              "  <style>\n",
              "    .colab-df-container {\n",
              "      display:flex;\n",
              "      flex-wrap:wrap;\n",
              "      gap: 12px;\n",
              "    }\n",
              "\n",
              "    .colab-df-convert {\n",
              "      background-color: #E8F0FE;\n",
              "      border: none;\n",
              "      border-radius: 50%;\n",
              "      cursor: pointer;\n",
              "      display: none;\n",
              "      fill: #1967D2;\n",
              "      height: 32px;\n",
              "      padding: 0 0 0 0;\n",
              "      width: 32px;\n",
              "    }\n",
              "\n",
              "    .colab-df-convert:hover {\n",
              "      background-color: #E2EBFA;\n",
              "      box-shadow: 0px 1px 2px rgba(60, 64, 67, 0.3), 0px 1px 3px 1px rgba(60, 64, 67, 0.15);\n",
              "      fill: #174EA6;\n",
              "    }\n",
              "\n",
              "    [theme=dark] .colab-df-convert {\n",
              "      background-color: #3B4455;\n",
              "      fill: #D2E3FC;\n",
              "    }\n",
              "\n",
              "    [theme=dark] .colab-df-convert:hover {\n",
              "      background-color: #434B5C;\n",
              "      box-shadow: 0px 1px 3px 1px rgba(0, 0, 0, 0.15);\n",
              "      filter: drop-shadow(0px 1px 2px rgba(0, 0, 0, 0.3));\n",
              "      fill: #FFFFFF;\n",
              "    }\n",
              "  </style>\n",
              "\n",
              "      <script>\n",
              "        const buttonEl =\n",
              "          document.querySelector('#df-87a1ca0f-69b2-4929-86cc-0727254e5be6 button.colab-df-convert');\n",
              "        buttonEl.style.display =\n",
              "          google.colab.kernel.accessAllowed ? 'block' : 'none';\n",
              "\n",
              "        async function convertToInteractive(key) {\n",
              "          const element = document.querySelector('#df-87a1ca0f-69b2-4929-86cc-0727254e5be6');\n",
              "          const dataTable =\n",
              "            await google.colab.kernel.invokeFunction('convertToInteractive',\n",
              "                                                     [key], {});\n",
              "          if (!dataTable) return;\n",
              "\n",
              "          const docLinkHtml = 'Like what you see? Visit the ' +\n",
              "            '<a target=\"_blank\" href=https://colab.research.google.com/notebooks/data_table.ipynb>data table notebook</a>'\n",
              "            + ' to learn more about interactive tables.';\n",
              "          element.innerHTML = '';\n",
              "          dataTable['output_type'] = 'display_data';\n",
              "          await google.colab.output.renderOutput(dataTable, element);\n",
              "          const docLink = document.createElement('div');\n",
              "          docLink.innerHTML = docLinkHtml;\n",
              "          element.appendChild(docLink);\n",
              "        }\n",
              "      </script>\n",
              "    </div>\n",
              "  </div>\n",
              "  "
            ]
          },
          "metadata": {},
          "execution_count": 6
        }
      ]
    },
    {
      "cell_type": "code",
      "source": [
        "test_df.head(1)"
      ],
      "metadata": {
        "colab": {
          "base_uri": "https://localhost:8080/",
          "height": 80
        },
        "id": "dRjdUU4tCyJk",
        "outputId": "e3e1329b-7fd2-4c4f-dd8a-53cfb06659ff"
      },
      "execution_count": null,
      "outputs": [
        {
          "output_type": "execute_result",
          "data": {
            "text/plain": [
              "          id                                               text  \\\n",
              "0  762883279  МУНИЦИПАЛЬНЫЙ КОНТРАКТ № ______ на оказание ус...   \n",
              "\n",
              "                              label  \n",
              "0  обеспечение исполнения контракта  "
            ],
            "text/html": [
              "\n",
              "  <div id=\"df-f448f460-6b1a-41ef-b8ae-68551d97488f\">\n",
              "    <div class=\"colab-df-container\">\n",
              "      <div>\n",
              "<style scoped>\n",
              "    .dataframe tbody tr th:only-of-type {\n",
              "        vertical-align: middle;\n",
              "    }\n",
              "\n",
              "    .dataframe tbody tr th {\n",
              "        vertical-align: top;\n",
              "    }\n",
              "\n",
              "    .dataframe thead th {\n",
              "        text-align: right;\n",
              "    }\n",
              "</style>\n",
              "<table border=\"1\" class=\"dataframe\">\n",
              "  <thead>\n",
              "    <tr style=\"text-align: right;\">\n",
              "      <th></th>\n",
              "      <th>id</th>\n",
              "      <th>text</th>\n",
              "      <th>label</th>\n",
              "    </tr>\n",
              "  </thead>\n",
              "  <tbody>\n",
              "    <tr>\n",
              "      <th>0</th>\n",
              "      <td>762883279</td>\n",
              "      <td>МУНИЦИПАЛЬНЫЙ КОНТРАКТ № ______ на оказание ус...</td>\n",
              "      <td>обеспечение исполнения контракта</td>\n",
              "    </tr>\n",
              "  </tbody>\n",
              "</table>\n",
              "</div>\n",
              "      <button class=\"colab-df-convert\" onclick=\"convertToInteractive('df-f448f460-6b1a-41ef-b8ae-68551d97488f')\"\n",
              "              title=\"Convert this dataframe to an interactive table.\"\n",
              "              style=\"display:none;\">\n",
              "        \n",
              "  <svg xmlns=\"http://www.w3.org/2000/svg\" height=\"24px\"viewBox=\"0 0 24 24\"\n",
              "       width=\"24px\">\n",
              "    <path d=\"M0 0h24v24H0V0z\" fill=\"none\"/>\n",
              "    <path d=\"M18.56 5.44l.94 2.06.94-2.06 2.06-.94-2.06-.94-.94-2.06-.94 2.06-2.06.94zm-11 1L8.5 8.5l.94-2.06 2.06-.94-2.06-.94L8.5 2.5l-.94 2.06-2.06.94zm10 10l.94 2.06.94-2.06 2.06-.94-2.06-.94-.94-2.06-.94 2.06-2.06.94z\"/><path d=\"M17.41 7.96l-1.37-1.37c-.4-.4-.92-.59-1.43-.59-.52 0-1.04.2-1.43.59L10.3 9.45l-7.72 7.72c-.78.78-.78 2.05 0 2.83L4 21.41c.39.39.9.59 1.41.59.51 0 1.02-.2 1.41-.59l7.78-7.78 2.81-2.81c.8-.78.8-2.07 0-2.86zM5.41 20L4 18.59l7.72-7.72 1.47 1.35L5.41 20z\"/>\n",
              "  </svg>\n",
              "      </button>\n",
              "      \n",
              "  <style>\n",
              "    .colab-df-container {\n",
              "      display:flex;\n",
              "      flex-wrap:wrap;\n",
              "      gap: 12px;\n",
              "    }\n",
              "\n",
              "    .colab-df-convert {\n",
              "      background-color: #E8F0FE;\n",
              "      border: none;\n",
              "      border-radius: 50%;\n",
              "      cursor: pointer;\n",
              "      display: none;\n",
              "      fill: #1967D2;\n",
              "      height: 32px;\n",
              "      padding: 0 0 0 0;\n",
              "      width: 32px;\n",
              "    }\n",
              "\n",
              "    .colab-df-convert:hover {\n",
              "      background-color: #E2EBFA;\n",
              "      box-shadow: 0px 1px 2px rgba(60, 64, 67, 0.3), 0px 1px 3px 1px rgba(60, 64, 67, 0.15);\n",
              "      fill: #174EA6;\n",
              "    }\n",
              "\n",
              "    [theme=dark] .colab-df-convert {\n",
              "      background-color: #3B4455;\n",
              "      fill: #D2E3FC;\n",
              "    }\n",
              "\n",
              "    [theme=dark] .colab-df-convert:hover {\n",
              "      background-color: #434B5C;\n",
              "      box-shadow: 0px 1px 3px 1px rgba(0, 0, 0, 0.15);\n",
              "      filter: drop-shadow(0px 1px 2px rgba(0, 0, 0, 0.3));\n",
              "      fill: #FFFFFF;\n",
              "    }\n",
              "  </style>\n",
              "\n",
              "      <script>\n",
              "        const buttonEl =\n",
              "          document.querySelector('#df-f448f460-6b1a-41ef-b8ae-68551d97488f button.colab-df-convert');\n",
              "        buttonEl.style.display =\n",
              "          google.colab.kernel.accessAllowed ? 'block' : 'none';\n",
              "\n",
              "        async function convertToInteractive(key) {\n",
              "          const element = document.querySelector('#df-f448f460-6b1a-41ef-b8ae-68551d97488f');\n",
              "          const dataTable =\n",
              "            await google.colab.kernel.invokeFunction('convertToInteractive',\n",
              "                                                     [key], {});\n",
              "          if (!dataTable) return;\n",
              "\n",
              "          const docLinkHtml = 'Like what you see? Visit the ' +\n",
              "            '<a target=\"_blank\" href=https://colab.research.google.com/notebooks/data_table.ipynb>data table notebook</a>'\n",
              "            + ' to learn more about interactive tables.';\n",
              "          element.innerHTML = '';\n",
              "          dataTable['output_type'] = 'display_data';\n",
              "          await google.colab.output.renderOutput(dataTable, element);\n",
              "          const docLink = document.createElement('div');\n",
              "          docLink.innerHTML = docLinkHtml;\n",
              "          element.appendChild(docLink);\n",
              "        }\n",
              "      </script>\n",
              "    </div>\n",
              "  </div>\n",
              "  "
            ]
          },
          "metadata": {},
          "execution_count": 7
        }
      ]
    },
    {
      "cell_type": "markdown",
      "source": [
        "Проверим тренировочный набор на пустые значения перед работой с датафреймом"
      ],
      "metadata": {
        "id": "DVE3dFJoAKYN"
      }
    },
    {
      "cell_type": "code",
      "source": [
        "train_df.isna().sum(axis=0) # Проверка на пустые значения"
      ],
      "metadata": {
        "colab": {
          "base_uri": "https://localhost:8080/"
        },
        "id": "Il_IAkkeDj5D",
        "outputId": "b90a57f8-c2f0-4b16-cdf1-59b3ba401272"
      },
      "execution_count": null,
      "outputs": [
        {
          "output_type": "execute_result",
          "data": {
            "text/plain": [
              "id                0\n",
              "text              0\n",
              "label             0\n",
              "extracted_part    0\n",
              "dtype: int64"
            ]
          },
          "metadata": {},
          "execution_count": 8
        }
      ]
    },
    {
      "cell_type": "markdown",
      "source": [
        "Преобразую столбец extracted_part в тренировочном сете для удобства преобразовать в три новых столбца: извлеченная часть и индексы начала и конца."
      ],
      "metadata": {
        "id": "_EaoCsGsCXj7"
      }
    },
    {
      "cell_type": "code",
      "source": [
        "train_df.extracted_part[0]"
      ],
      "metadata": {
        "colab": {
          "base_uri": "https://localhost:8080/"
        },
        "id": "Kuf2RQgmDGPK",
        "outputId": "4604ce83-c149-4d27-a592-29f7df9930c7"
      },
      "execution_count": null,
      "outputs": [
        {
          "output_type": "execute_result",
          "data": {
            "text/plain": [
              "{'text': ['Размер обеспечения исполнения контракта 6593.25 Российский рубль'],\n",
              " 'answer_start': [1279],\n",
              " 'answer_end': [1343]}"
            ]
          },
          "metadata": {},
          "execution_count": 9
        }
      ]
    },
    {
      "cell_type": "code",
      "source": [
        "def extraction(row : str):\n",
        "  dictionary = row[\"extracted_part\"]\n",
        "  row[\"extracted_text\"] = dictionary[\"text\"]\n",
        "  row[\"answer_start\"] = dictionary[\"answer_start\"]\n",
        "  row[\"answer_end\"] = dictionary[\"answer_end\"]\n",
        "  return row\n",
        "train_df = train_df.apply(extraction, axis=1)\n",
        "train_df.drop([\"extracted_part\"], axis=1, inplace=True)\n",
        "train_df.head(1)"
      ],
      "metadata": {
        "colab": {
          "base_uri": "https://localhost:8080/",
          "height": 142
        },
        "id": "HWisp1x3FKaY",
        "outputId": "382b3c84-03e6-45a1-8d43-fc66737f43bf"
      },
      "execution_count": null,
      "outputs": [
        {
          "output_type": "execute_result",
          "data": {
            "text/plain": [
              "          id                                               text  \\\n",
              "0  809436509  Извещение о проведении открытого конкурса в эл...   \n",
              "\n",
              "                              label  \\\n",
              "0  обеспечение исполнения контракта   \n",
              "\n",
              "                                      extracted_text answer_start answer_end  \n",
              "0  [Размер обеспечения исполнения контракта 6593....       [1279]     [1343]  "
            ],
            "text/html": [
              "\n",
              "  <div id=\"df-1d0ec3cb-6ddd-42ae-9ebe-8dde45fdcaf9\">\n",
              "    <div class=\"colab-df-container\">\n",
              "      <div>\n",
              "<style scoped>\n",
              "    .dataframe tbody tr th:only-of-type {\n",
              "        vertical-align: middle;\n",
              "    }\n",
              "\n",
              "    .dataframe tbody tr th {\n",
              "        vertical-align: top;\n",
              "    }\n",
              "\n",
              "    .dataframe thead th {\n",
              "        text-align: right;\n",
              "    }\n",
              "</style>\n",
              "<table border=\"1\" class=\"dataframe\">\n",
              "  <thead>\n",
              "    <tr style=\"text-align: right;\">\n",
              "      <th></th>\n",
              "      <th>id</th>\n",
              "      <th>text</th>\n",
              "      <th>label</th>\n",
              "      <th>extracted_text</th>\n",
              "      <th>answer_start</th>\n",
              "      <th>answer_end</th>\n",
              "    </tr>\n",
              "  </thead>\n",
              "  <tbody>\n",
              "    <tr>\n",
              "      <th>0</th>\n",
              "      <td>809436509</td>\n",
              "      <td>Извещение о проведении открытого конкурса в эл...</td>\n",
              "      <td>обеспечение исполнения контракта</td>\n",
              "      <td>[Размер обеспечения исполнения контракта 6593....</td>\n",
              "      <td>[1279]</td>\n",
              "      <td>[1343]</td>\n",
              "    </tr>\n",
              "  </tbody>\n",
              "</table>\n",
              "</div>\n",
              "      <button class=\"colab-df-convert\" onclick=\"convertToInteractive('df-1d0ec3cb-6ddd-42ae-9ebe-8dde45fdcaf9')\"\n",
              "              title=\"Convert this dataframe to an interactive table.\"\n",
              "              style=\"display:none;\">\n",
              "        \n",
              "  <svg xmlns=\"http://www.w3.org/2000/svg\" height=\"24px\"viewBox=\"0 0 24 24\"\n",
              "       width=\"24px\">\n",
              "    <path d=\"M0 0h24v24H0V0z\" fill=\"none\"/>\n",
              "    <path d=\"M18.56 5.44l.94 2.06.94-2.06 2.06-.94-2.06-.94-.94-2.06-.94 2.06-2.06.94zm-11 1L8.5 8.5l.94-2.06 2.06-.94-2.06-.94L8.5 2.5l-.94 2.06-2.06.94zm10 10l.94 2.06.94-2.06 2.06-.94-2.06-.94-.94-2.06-.94 2.06-2.06.94z\"/><path d=\"M17.41 7.96l-1.37-1.37c-.4-.4-.92-.59-1.43-.59-.52 0-1.04.2-1.43.59L10.3 9.45l-7.72 7.72c-.78.78-.78 2.05 0 2.83L4 21.41c.39.39.9.59 1.41.59.51 0 1.02-.2 1.41-.59l7.78-7.78 2.81-2.81c.8-.78.8-2.07 0-2.86zM5.41 20L4 18.59l7.72-7.72 1.47 1.35L5.41 20z\"/>\n",
              "  </svg>\n",
              "      </button>\n",
              "      \n",
              "  <style>\n",
              "    .colab-df-container {\n",
              "      display:flex;\n",
              "      flex-wrap:wrap;\n",
              "      gap: 12px;\n",
              "    }\n",
              "\n",
              "    .colab-df-convert {\n",
              "      background-color: #E8F0FE;\n",
              "      border: none;\n",
              "      border-radius: 50%;\n",
              "      cursor: pointer;\n",
              "      display: none;\n",
              "      fill: #1967D2;\n",
              "      height: 32px;\n",
              "      padding: 0 0 0 0;\n",
              "      width: 32px;\n",
              "    }\n",
              "\n",
              "    .colab-df-convert:hover {\n",
              "      background-color: #E2EBFA;\n",
              "      box-shadow: 0px 1px 2px rgba(60, 64, 67, 0.3), 0px 1px 3px 1px rgba(60, 64, 67, 0.15);\n",
              "      fill: #174EA6;\n",
              "    }\n",
              "\n",
              "    [theme=dark] .colab-df-convert {\n",
              "      background-color: #3B4455;\n",
              "      fill: #D2E3FC;\n",
              "    }\n",
              "\n",
              "    [theme=dark] .colab-df-convert:hover {\n",
              "      background-color: #434B5C;\n",
              "      box-shadow: 0px 1px 3px 1px rgba(0, 0, 0, 0.15);\n",
              "      filter: drop-shadow(0px 1px 2px rgba(0, 0, 0, 0.3));\n",
              "      fill: #FFFFFF;\n",
              "    }\n",
              "  </style>\n",
              "\n",
              "      <script>\n",
              "        const buttonEl =\n",
              "          document.querySelector('#df-1d0ec3cb-6ddd-42ae-9ebe-8dde45fdcaf9 button.colab-df-convert');\n",
              "        buttonEl.style.display =\n",
              "          google.colab.kernel.accessAllowed ? 'block' : 'none';\n",
              "\n",
              "        async function convertToInteractive(key) {\n",
              "          const element = document.querySelector('#df-1d0ec3cb-6ddd-42ae-9ebe-8dde45fdcaf9');\n",
              "          const dataTable =\n",
              "            await google.colab.kernel.invokeFunction('convertToInteractive',\n",
              "                                                     [key], {});\n",
              "          if (!dataTable) return;\n",
              "\n",
              "          const docLinkHtml = 'Like what you see? Visit the ' +\n",
              "            '<a target=\"_blank\" href=https://colab.research.google.com/notebooks/data_table.ipynb>data table notebook</a>'\n",
              "            + ' to learn more about interactive tables.';\n",
              "          element.innerHTML = '';\n",
              "          dataTable['output_type'] = 'display_data';\n",
              "          await google.colab.output.renderOutput(dataTable, element);\n",
              "          const docLink = document.createElement('div');\n",
              "          docLink.innerHTML = docLinkHtml;\n",
              "          element.appendChild(docLink);\n",
              "        }\n",
              "      </script>\n",
              "    </div>\n",
              "  </div>\n",
              "  "
            ]
          },
          "metadata": {},
          "execution_count": 10
        }
      ]
    },
    {
      "cell_type": "markdown",
      "source": [
        "Каждый из новых столбцов представляет из себя список. Я собираюсь проверить, есть ли такие случаи, что извлечено несколько значений."
      ],
      "metadata": {
        "id": "5NzmqIARHFz2"
      }
    },
    {
      "cell_type": "code",
      "source": [
        "(train_df.extracted_text.apply(lambda x : len(x)) !=1).sum()"
      ],
      "metadata": {
        "colab": {
          "base_uri": "https://localhost:8080/"
        },
        "id": "h1mfYp96Cp2h",
        "outputId": "542d7d67-3a34-4ec3-e2ec-21e61864a917"
      },
      "execution_count": null,
      "outputs": [
        {
          "output_type": "execute_result",
          "data": {
            "text/plain": [
              "0"
            ]
          },
          "metadata": {},
          "execution_count": 11
        }
      ]
    },
    {
      "cell_type": "code",
      "source": [
        "train_df.tail(1)"
      ],
      "metadata": {
        "colab": {
          "base_uri": "https://localhost:8080/",
          "height": 142
        },
        "id": "2M5fh1S_Kk_7",
        "outputId": "7b8a12e5-adbf-4864-d1f5-6b8e3c18e8af"
      },
      "execution_count": null,
      "outputs": [
        {
          "output_type": "execute_result",
          "data": {
            "text/plain": [
              "             id                                               text  \\\n",
              "1798  926039184  Государственная корпорацИя по атомной энергии ...   \n",
              "\n",
              "                                     label extracted_text answer_start  \\\n",
              "1798  обеспечение гарантийных обязательств             []          [0]   \n",
              "\n",
              "     answer_end  \n",
              "1798        [0]  "
            ],
            "text/html": [
              "\n",
              "  <div id=\"df-88338b70-218e-464b-b6bd-3073cdcbecc8\">\n",
              "    <div class=\"colab-df-container\">\n",
              "      <div>\n",
              "<style scoped>\n",
              "    .dataframe tbody tr th:only-of-type {\n",
              "        vertical-align: middle;\n",
              "    }\n",
              "\n",
              "    .dataframe tbody tr th {\n",
              "        vertical-align: top;\n",
              "    }\n",
              "\n",
              "    .dataframe thead th {\n",
              "        text-align: right;\n",
              "    }\n",
              "</style>\n",
              "<table border=\"1\" class=\"dataframe\">\n",
              "  <thead>\n",
              "    <tr style=\"text-align: right;\">\n",
              "      <th></th>\n",
              "      <th>id</th>\n",
              "      <th>text</th>\n",
              "      <th>label</th>\n",
              "      <th>extracted_text</th>\n",
              "      <th>answer_start</th>\n",
              "      <th>answer_end</th>\n",
              "    </tr>\n",
              "  </thead>\n",
              "  <tbody>\n",
              "    <tr>\n",
              "      <th>1798</th>\n",
              "      <td>926039184</td>\n",
              "      <td>Государственная корпорацИя по атомной энергии ...</td>\n",
              "      <td>обеспечение гарантийных обязательств</td>\n",
              "      <td>[]</td>\n",
              "      <td>[0]</td>\n",
              "      <td>[0]</td>\n",
              "    </tr>\n",
              "  </tbody>\n",
              "</table>\n",
              "</div>\n",
              "      <button class=\"colab-df-convert\" onclick=\"convertToInteractive('df-88338b70-218e-464b-b6bd-3073cdcbecc8')\"\n",
              "              title=\"Convert this dataframe to an interactive table.\"\n",
              "              style=\"display:none;\">\n",
              "        \n",
              "  <svg xmlns=\"http://www.w3.org/2000/svg\" height=\"24px\"viewBox=\"0 0 24 24\"\n",
              "       width=\"24px\">\n",
              "    <path d=\"M0 0h24v24H0V0z\" fill=\"none\"/>\n",
              "    <path d=\"M18.56 5.44l.94 2.06.94-2.06 2.06-.94-2.06-.94-.94-2.06-.94 2.06-2.06.94zm-11 1L8.5 8.5l.94-2.06 2.06-.94-2.06-.94L8.5 2.5l-.94 2.06-2.06.94zm10 10l.94 2.06.94-2.06 2.06-.94-2.06-.94-.94-2.06-.94 2.06-2.06.94z\"/><path d=\"M17.41 7.96l-1.37-1.37c-.4-.4-.92-.59-1.43-.59-.52 0-1.04.2-1.43.59L10.3 9.45l-7.72 7.72c-.78.78-.78 2.05 0 2.83L4 21.41c.39.39.9.59 1.41.59.51 0 1.02-.2 1.41-.59l7.78-7.78 2.81-2.81c.8-.78.8-2.07 0-2.86zM5.41 20L4 18.59l7.72-7.72 1.47 1.35L5.41 20z\"/>\n",
              "  </svg>\n",
              "      </button>\n",
              "      \n",
              "  <style>\n",
              "    .colab-df-container {\n",
              "      display:flex;\n",
              "      flex-wrap:wrap;\n",
              "      gap: 12px;\n",
              "    }\n",
              "\n",
              "    .colab-df-convert {\n",
              "      background-color: #E8F0FE;\n",
              "      border: none;\n",
              "      border-radius: 50%;\n",
              "      cursor: pointer;\n",
              "      display: none;\n",
              "      fill: #1967D2;\n",
              "      height: 32px;\n",
              "      padding: 0 0 0 0;\n",
              "      width: 32px;\n",
              "    }\n",
              "\n",
              "    .colab-df-convert:hover {\n",
              "      background-color: #E2EBFA;\n",
              "      box-shadow: 0px 1px 2px rgba(60, 64, 67, 0.3), 0px 1px 3px 1px rgba(60, 64, 67, 0.15);\n",
              "      fill: #174EA6;\n",
              "    }\n",
              "\n",
              "    [theme=dark] .colab-df-convert {\n",
              "      background-color: #3B4455;\n",
              "      fill: #D2E3FC;\n",
              "    }\n",
              "\n",
              "    [theme=dark] .colab-df-convert:hover {\n",
              "      background-color: #434B5C;\n",
              "      box-shadow: 0px 1px 3px 1px rgba(0, 0, 0, 0.15);\n",
              "      filter: drop-shadow(0px 1px 2px rgba(0, 0, 0, 0.3));\n",
              "      fill: #FFFFFF;\n",
              "    }\n",
              "  </style>\n",
              "\n",
              "      <script>\n",
              "        const buttonEl =\n",
              "          document.querySelector('#df-88338b70-218e-464b-b6bd-3073cdcbecc8 button.colab-df-convert');\n",
              "        buttonEl.style.display =\n",
              "          google.colab.kernel.accessAllowed ? 'block' : 'none';\n",
              "\n",
              "        async function convertToInteractive(key) {\n",
              "          const element = document.querySelector('#df-88338b70-218e-464b-b6bd-3073cdcbecc8');\n",
              "          const dataTable =\n",
              "            await google.colab.kernel.invokeFunction('convertToInteractive',\n",
              "                                                     [key], {});\n",
              "          if (!dataTable) return;\n",
              "\n",
              "          const docLinkHtml = 'Like what you see? Visit the ' +\n",
              "            '<a target=\"_blank\" href=https://colab.research.google.com/notebooks/data_table.ipynb>data table notebook</a>'\n",
              "            + ' to learn more about interactive tables.';\n",
              "          element.innerHTML = '';\n",
              "          dataTable['output_type'] = 'display_data';\n",
              "          await google.colab.output.renderOutput(dataTable, element);\n",
              "          const docLink = document.createElement('div');\n",
              "          docLink.innerHTML = docLinkHtml;\n",
              "          element.appendChild(docLink);\n",
              "        }\n",
              "      </script>\n",
              "    </div>\n",
              "  </div>\n",
              "  "
            ]
          },
          "metadata": {},
          "execution_count": 12
        }
      ]
    },
    {
      "cell_type": "code",
      "source": [
        "len(train_df.iloc[-1].extracted_text), train_df.iloc[-1].extracted_text"
      ],
      "metadata": {
        "colab": {
          "base_uri": "https://localhost:8080/"
        },
        "id": "gSe5jYn-Kooq",
        "outputId": "9e18c47c-71f6-42ba-807c-eb43c635d223"
      },
      "execution_count": null,
      "outputs": [
        {
          "output_type": "execute_result",
          "data": {
            "text/plain": [
              "(1, [''])"
            ]
          },
          "metadata": {},
          "execution_count": 13
        }
      ]
    },
    {
      "cell_type": "markdown",
      "source": [
        "Тренировочный набор не содержит таких примеров, что извлечено несколько фрагментов, так что избавлюсь от списков в фрейме. Так мы не избавимся и от пустых значений, так как столбцы answer_start, answer_end имеют как единственное значение листа 0, а extracted_text пустую строку, которая даст длину всего листа 1."
      ],
      "metadata": {
        "id": "BEXLw-R4HiqL"
      }
    },
    {
      "cell_type": "code",
      "source": [
        "def remove_list(row):\n",
        "  row[\"extracted_text\"] = row[\"extracted_text\"][0]\n",
        "  row[\"answer_start\"] = row[\"answer_start\"][0]\n",
        "  row[\"answer_end\"] = row[\"answer_end\"][0]\n",
        "  return row\n",
        "train_df = train_df.apply(remove_list, axis=1)\n",
        "train_df.tail(1)"
      ],
      "metadata": {
        "colab": {
          "base_uri": "https://localhost:8080/",
          "height": 142
        },
        "id": "SMCHKsc7K226",
        "outputId": "e815a704-9287-4aa2-f5b1-42d7530be627"
      },
      "execution_count": null,
      "outputs": [
        {
          "output_type": "execute_result",
          "data": {
            "text/plain": [
              "             id                                               text  \\\n",
              "1798  926039184  Государственная корпорацИя по атомной энергии ...   \n",
              "\n",
              "                                     label extracted_text  answer_start  \\\n",
              "1798  обеспечение гарантийных обязательств                            0   \n",
              "\n",
              "      answer_end  \n",
              "1798           0  "
            ],
            "text/html": [
              "\n",
              "  <div id=\"df-cf311e12-4d65-47ea-9bc3-b2f70e27bc5a\">\n",
              "    <div class=\"colab-df-container\">\n",
              "      <div>\n",
              "<style scoped>\n",
              "    .dataframe tbody tr th:only-of-type {\n",
              "        vertical-align: middle;\n",
              "    }\n",
              "\n",
              "    .dataframe tbody tr th {\n",
              "        vertical-align: top;\n",
              "    }\n",
              "\n",
              "    .dataframe thead th {\n",
              "        text-align: right;\n",
              "    }\n",
              "</style>\n",
              "<table border=\"1\" class=\"dataframe\">\n",
              "  <thead>\n",
              "    <tr style=\"text-align: right;\">\n",
              "      <th></th>\n",
              "      <th>id</th>\n",
              "      <th>text</th>\n",
              "      <th>label</th>\n",
              "      <th>extracted_text</th>\n",
              "      <th>answer_start</th>\n",
              "      <th>answer_end</th>\n",
              "    </tr>\n",
              "  </thead>\n",
              "  <tbody>\n",
              "    <tr>\n",
              "      <th>1798</th>\n",
              "      <td>926039184</td>\n",
              "      <td>Государственная корпорацИя по атомной энергии ...</td>\n",
              "      <td>обеспечение гарантийных обязательств</td>\n",
              "      <td></td>\n",
              "      <td>0</td>\n",
              "      <td>0</td>\n",
              "    </tr>\n",
              "  </tbody>\n",
              "</table>\n",
              "</div>\n",
              "      <button class=\"colab-df-convert\" onclick=\"convertToInteractive('df-cf311e12-4d65-47ea-9bc3-b2f70e27bc5a')\"\n",
              "              title=\"Convert this dataframe to an interactive table.\"\n",
              "              style=\"display:none;\">\n",
              "        \n",
              "  <svg xmlns=\"http://www.w3.org/2000/svg\" height=\"24px\"viewBox=\"0 0 24 24\"\n",
              "       width=\"24px\">\n",
              "    <path d=\"M0 0h24v24H0V0z\" fill=\"none\"/>\n",
              "    <path d=\"M18.56 5.44l.94 2.06.94-2.06 2.06-.94-2.06-.94-.94-2.06-.94 2.06-2.06.94zm-11 1L8.5 8.5l.94-2.06 2.06-.94-2.06-.94L8.5 2.5l-.94 2.06-2.06.94zm10 10l.94 2.06.94-2.06 2.06-.94-2.06-.94-.94-2.06-.94 2.06-2.06.94z\"/><path d=\"M17.41 7.96l-1.37-1.37c-.4-.4-.92-.59-1.43-.59-.52 0-1.04.2-1.43.59L10.3 9.45l-7.72 7.72c-.78.78-.78 2.05 0 2.83L4 21.41c.39.39.9.59 1.41.59.51 0 1.02-.2 1.41-.59l7.78-7.78 2.81-2.81c.8-.78.8-2.07 0-2.86zM5.41 20L4 18.59l7.72-7.72 1.47 1.35L5.41 20z\"/>\n",
              "  </svg>\n",
              "      </button>\n",
              "      \n",
              "  <style>\n",
              "    .colab-df-container {\n",
              "      display:flex;\n",
              "      flex-wrap:wrap;\n",
              "      gap: 12px;\n",
              "    }\n",
              "\n",
              "    .colab-df-convert {\n",
              "      background-color: #E8F0FE;\n",
              "      border: none;\n",
              "      border-radius: 50%;\n",
              "      cursor: pointer;\n",
              "      display: none;\n",
              "      fill: #1967D2;\n",
              "      height: 32px;\n",
              "      padding: 0 0 0 0;\n",
              "      width: 32px;\n",
              "    }\n",
              "\n",
              "    .colab-df-convert:hover {\n",
              "      background-color: #E2EBFA;\n",
              "      box-shadow: 0px 1px 2px rgba(60, 64, 67, 0.3), 0px 1px 3px 1px rgba(60, 64, 67, 0.15);\n",
              "      fill: #174EA6;\n",
              "    }\n",
              "\n",
              "    [theme=dark] .colab-df-convert {\n",
              "      background-color: #3B4455;\n",
              "      fill: #D2E3FC;\n",
              "    }\n",
              "\n",
              "    [theme=dark] .colab-df-convert:hover {\n",
              "      background-color: #434B5C;\n",
              "      box-shadow: 0px 1px 3px 1px rgba(0, 0, 0, 0.15);\n",
              "      filter: drop-shadow(0px 1px 2px rgba(0, 0, 0, 0.3));\n",
              "      fill: #FFFFFF;\n",
              "    }\n",
              "  </style>\n",
              "\n",
              "      <script>\n",
              "        const buttonEl =\n",
              "          document.querySelector('#df-cf311e12-4d65-47ea-9bc3-b2f70e27bc5a button.colab-df-convert');\n",
              "        buttonEl.style.display =\n",
              "          google.colab.kernel.accessAllowed ? 'block' : 'none';\n",
              "\n",
              "        async function convertToInteractive(key) {\n",
              "          const element = document.querySelector('#df-cf311e12-4d65-47ea-9bc3-b2f70e27bc5a');\n",
              "          const dataTable =\n",
              "            await google.colab.kernel.invokeFunction('convertToInteractive',\n",
              "                                                     [key], {});\n",
              "          if (!dataTable) return;\n",
              "\n",
              "          const docLinkHtml = 'Like what you see? Visit the ' +\n",
              "            '<a target=\"_blank\" href=https://colab.research.google.com/notebooks/data_table.ipynb>data table notebook</a>'\n",
              "            + ' to learn more about interactive tables.';\n",
              "          element.innerHTML = '';\n",
              "          dataTable['output_type'] = 'display_data';\n",
              "          await google.colab.output.renderOutput(dataTable, element);\n",
              "          const docLink = document.createElement('div');\n",
              "          docLink.innerHTML = docLinkHtml;\n",
              "          element.appendChild(docLink);\n",
              "        }\n",
              "      </script>\n",
              "    </div>\n",
              "  </div>\n",
              "  "
            ]
          },
          "metadata": {},
          "execution_count": 14
        }
      ]
    },
    {
      "cell_type": "markdown",
      "source": [
        "Теперь уберем пробелы в extracted_text по бокам и изменим соответственно индексы. Это поможет в дальнейшем при дообучении NER компонента в spacy, так как при наличии пробелов возникает пробелы соответствия границ токенов и выделяемых энтити.\n",
        "\n",
        "До части с дообучением модел, это также поможет с анализом. Пробел перед первым словом или после последнего явно не должен быть включен в ответ, так что его наличие в трен. данных - признак не идеального тренировочного набора, что так и есть, как будет показано далее"
      ],
      "metadata": {
        "id": "2s9cqGDqhHhY"
      }
    },
    {
      "cell_type": "code",
      "source": [
        "def remove_spaces(row):\n",
        "  if row[\"extracted_text\"].startswith(\" \"):\n",
        "    row[\"extracted_text\"] = row[\"extracted_text\"][1:]\n",
        "    row[\"answer_start\"] +=1 # убрали пробел => сдвинули начало вправо на один\n",
        "  if row[\"extracted_text\"].endswith(\" \"):\n",
        "    row[\"extracted_text\"] = row[\"extracted_text\"][:-1]\n",
        "    row[\"answer_end\"] -=1 # убрали пробел => сдвинули конец влево на один\n",
        "  return row\n",
        "train_df = train_df.apply(remove_spaces, axis=1)"
      ],
      "metadata": {
        "id": "VWxA3osAhX1L"
      },
      "execution_count": null,
      "outputs": []
    },
    {
      "cell_type": "markdown",
      "source": [
        "Посмотрим на распределение меток"
      ],
      "metadata": {
        "id": "rDg_P48yS8nM"
      }
    },
    {
      "cell_type": "code",
      "source": [
        "train_df.label.value_counts()"
      ],
      "metadata": {
        "colab": {
          "base_uri": "https://localhost:8080/"
        },
        "id": "1gX8hlhIS-wr",
        "outputId": "26d53027-b0b4-45a2-9a21-11eca59ff3fa"
      },
      "execution_count": null,
      "outputs": [
        {
          "output_type": "execute_result",
          "data": {
            "text/plain": [
              "обеспечение исполнения контракта        988\n",
              "обеспечение гарантийных обязательств    811\n",
              "Name: label, dtype: int64"
            ]
          },
          "metadata": {},
          "execution_count": 16
        }
      ]
    },
    {
      "cell_type": "markdown",
      "source": [
        "+- сбалансированно. Рассмотрим распределение количества слов в каждом извлеченном фрагменте"
      ],
      "metadata": {
        "id": "Y-0lfhA5LdFe"
      }
    },
    {
      "cell_type": "code",
      "source": [
        "grouped = train_df.groupby('label')\n",
        "\n",
        "for label, group in grouped:\n",
        "    words = group['extracted_text'].apply(lambda x : len(x.split(\" \")))\n",
        "    sns.histplot(words, bins=50, alpha=0.5, label=label)\n",
        "plt.legend()\n",
        "plt.xlabel(\"Number of words\")\n",
        "plt.show()"
      ],
      "metadata": {
        "colab": {
          "base_uri": "https://localhost:8080/",
          "height": 449
        },
        "id": "B1qR6p42LmM2",
        "outputId": "0f6a9ae3-7d0d-4cfb-9934-1573bf9f1310"
      },
      "execution_count": null,
      "outputs": [
        {
          "output_type": "display_data",
          "data": {
            "text/plain": [
              "<Figure size 640x480 with 1 Axes>"
            ],
            "image/png": "[encoded data removed]"
          },
          "metadata": {}
        }
      ]
    },
    {
      "cell_type": "markdown",
      "source": [
        "Видим один большой пик для \"Обеспечение гарантийных обязательств\", словно это фрагмент, соответствующий одному шаблону.\n",
        "Первый пик не считается, ибо это следствие пустой строки для пустых фрагментов\n",
        "\n",
        "Для \"Обеспечение исполнения контракта\" все не так однозначно. Посмотрим на примеры фрагментов, соответствующих синему пику"
      ],
      "metadata": {
        "id": "Qsov7vI9VIx8"
      }
    },
    {
      "cell_type": "code",
      "source": [
        "temp = train_df[train_df[\"label\"] == \"обеспечение гарантийных обязательств\"].apply(lambda x: len(x[\"extracted_text\"].split(\" \")), axis=1)\n",
        "temp.value_counts()[:5]"
      ],
      "metadata": {
        "colab": {
          "base_uri": "https://localhost:8080/"
        },
        "id": "JnbMVtm_ViFS",
        "outputId": "0a48af90-1b8d-4948-e11e-f245a025b8f9"
      },
      "execution_count": null,
      "outputs": [
        {
          "output_type": "execute_result",
          "data": {
            "text/plain": [
              "1     303\n",
              "7     178\n",
              "16     33\n",
              "15     29\n",
              "19     24\n",
              "dtype: int64"
            ]
          },
          "metadata": {},
          "execution_count": 18
        }
      ]
    },
    {
      "cell_type": "code",
      "source": [
        "counter = 0\n",
        "for value in train_df[train_df[\"label\"] == \"обеспечение гарантийных обязательств\"].extracted_text:\n",
        "  if (len(value.split(\" \")) == 7):\n",
        "    print(value)\n",
        "    counter+=1\n",
        "  if counter == 10: # ограничимся 10 значениями\n",
        "    break"
      ],
      "metadata": {
        "colab": {
          "base_uri": "https://localhost:8080/"
        },
        "id": "ty9TXMxhKSl0",
        "outputId": "ee696b06-6138-49a7-d7b5-469b9dac5ed9"
      },
      "execution_count": null,
      "outputs": [
        {
          "output_type": "stream",
          "name": "stdout",
          "text": [
            "Размер обеспечения гарантийных обязательств 1597.60 Российский рубль\n",
            "Размер обеспечения гарантийных обязательств 11599.38 Российский рубль\n",
            "Размер обеспечения гарантийных обязательств 2177.13 Российский рубль\n",
            "Размер обеспечения гарантийных обязательств 554.00 Российский рубль\n",
            "Размер обеспечения гарантийных обязательств 265.00 Российский рубль\n",
            "Размер обеспечения гарантийных обязательств 946800.00 Российский рубль\n",
            "Размер обеспечения гарантийных обязательств 946800.00 Российский рубль\n",
            "Размер обеспечения гарантийных обязательств 946800.00 Российский рубль\n",
            "Размер обеспечения гарантийных обязательств 54182.46 Российский рубль\n",
            "Размер обеспечения гарантийных обязательств 54182.46 Российский рубль\n"
          ]
        }
      ]
    },
    {
      "cell_type": "markdown",
      "source": [
        "Шаблон обнаружен. Давайте еще посмотрим на шаблоны пиков для желтой гистограммы для метки \"обеспечение исполнения контракта\""
      ],
      "metadata": {
        "id": "WGxMF0CUaeNR"
      }
    },
    {
      "cell_type": "code",
      "source": [
        "temp = train_df[train_df[\"label\"] == \"обеспечение исполнения контракта\"].apply(lambda x: len(x[\"extracted_text\"].split(\" \")), axis=1)\n",
        "temp.value_counts()[:5]\n",
        "del temp"
      ],
      "metadata": {
        "id": "m5Ekwnhnapuq"
      },
      "execution_count": null,
      "outputs": []
    },
    {
      "cell_type": "code",
      "source": [
        "\n",
        "l = [5,15,11,7] # самые выделяющиеся\n",
        "for value in train_df[train_df[\"label\"] == \"обеспечение исполнения контракта\"].extracted_text:\n",
        "  if (len(value.split(\" \")) in l):\n",
        "    print(value)\n",
        "    l.remove(len(value.split(\" \")))\n",
        "  if len(l) == 0:\n",
        "    break"
      ],
      "metadata": {
        "colab": {
          "base_uri": "https://localhost:8080/"
        },
        "id": "KZqneONOa1wB",
        "outputId": "6fffe139-17ea-46b6-9640-35b98fedd3dc"
      },
      "execution_count": null,
      "outputs": [
        {
          "output_type": "stream",
          "name": "stdout",
          "text": [
            "Размер обеспечения исполнения контракта 6593.25 Российский рубль\n",
            "Размер обеспечения исполнения контракта 10.00%\n",
            "Размер обеспечение исполнения контракта устанавливается от 0,5 % до 30 % начальной (максимальной) цены контракта\n",
            "Обеспечение исполнения Контракта устанавливается в размере 5 процентов от Цены Контракта.\n"
          ]
        }
      ]
    },
    {
      "cell_type": "markdown",
      "source": [
        "### Шаблоны:\n",
        "- Размер обеспечения исполнения контракта ***%\n",
        "- Размер обеспечения исполнения контракта *** Российский рубль\n",
        "- Размер обеспечение исполнения контракта устанавливается от *** % до *** % начальной (максимальной) цены контракта\n",
        "- Обеспечение исполнения Контракта устанавливается в размере *** процентов от Цены Контракта."
      ],
      "metadata": {
        "id": "r97jo811bUq8"
      }
    },
    {
      "cell_type": "markdown",
      "source": [
        "# Глубокий анализ подходящих фрагментов и работа со spacy"
      ],
      "metadata": {
        "id": "bAPqoEdD7LqW"
      }
    },
    {
      "cell_type": "markdown",
      "source": [
        "Продолжим исследовать. Первым делом я хочу попробовать провести синтаксический и морфологический анализ через spacy и решить задачу используя данную библиотеку. Для удобства, для этой секции я оставлю только строки с непустым значением вытащенного фрагмента, так как сейчас цель не научить модель искать нужные фрагменты, а понять, какие фрагменты по структуре нам подходят."
      ],
      "metadata": {
        "id": "BMRtcl1icFyQ"
      }
    },
    {
      "cell_type": "code",
      "source": [
        "train_df_spacy = train_df[train_df[\"extracted_text\"] != ''].drop([\"answer_start\", \"answer_end\"], axis=1)\n",
        "train_df_spacy.head()"
      ],
      "metadata": {
        "id": "eyUBSv_BcFXV",
        "colab": {
          "base_uri": "https://localhost:8080/",
          "height": 337
        },
        "outputId": "76da98bd-0ba0-4b38-c197-329447d095cd"
      },
      "execution_count": null,
      "outputs": [
        {
          "output_type": "execute_result",
          "data": {
            "text/plain": [
              "          id                                               text  \\\n",
              "0  809436509  Извещение о проведении открытого конкурса в эл...   \n",
              "1  854885310  ТРЕБОВАНИЯ К СОДЕРЖАНИЮ ЗАЯВКИ участника запро...   \n",
              "2    4382157  Извещение о проведении электронного аукциона д...   \n",
              "3  184555082  Извещение о проведении электронного аукциона д...   \n",
              "4  211645258  Извещение о проведении электронного аукциона д...   \n",
              "\n",
              "                              label  \\\n",
              "0  обеспечение исполнения контракта   \n",
              "1  обеспечение исполнения контракта   \n",
              "2  обеспечение исполнения контракта   \n",
              "3  обеспечение исполнения контракта   \n",
              "4  обеспечение исполнения контракта   \n",
              "\n",
              "                                      extracted_text  \n",
              "0  Размер обеспечения исполнения контракта 6593.2...  \n",
              "1  Поставщик должен предоставить обеспечение испо...  \n",
              "2     Размер обеспечения исполнения контракта 10.00%  \n",
              "3     Размер обеспечения исполнения контракта 10.00%  \n",
              "4     Размер обеспечения исполнения контракта 10.00%  "
            ],
            "text/html": [
              "\n",
              "  <div id=\"df-9fda46c5-fa43-4108-8dc0-7ecb27010cf3\">\n",
              "    <div class=\"colab-df-container\">\n",
              "      <div>\n",
              "<style scoped>\n",
              "    .dataframe tbody tr th:only-of-type {\n",
              "        vertical-align: middle;\n",
              "    }\n",
              "\n",
              "    .dataframe tbody tr th {\n",
              "        vertical-align: top;\n",
              "    }\n",
              "\n",
              "    .dataframe thead th {\n",
              "        text-align: right;\n",
              "    }\n",
              "</style>\n",
              "<table border=\"1\" class=\"dataframe\">\n",
              "  <thead>\n",
              "    <tr style=\"text-align: right;\">\n",
              "      <th></th>\n",
              "      <th>id</th>\n",
              "      <th>text</th>\n",
              "      <th>label</th>\n",
              "      <th>extracted_text</th>\n",
              "    </tr>\n",
              "  </thead>\n",
              "  <tbody>\n",
              "    <tr>\n",
              "      <th>0</th>\n",
              "      <td>809436509</td>\n",
              "      <td>Извещение о проведении открытого конкурса в эл...</td>\n",
              "      <td>обеспечение исполнения контракта</td>\n",
              "      <td>Размер обеспечения исполнения контракта 6593.2...</td>\n",
              "    </tr>\n",
              "    <tr>\n",
              "      <th>1</th>\n",
              "      <td>854885310</td>\n",
              "      <td>ТРЕБОВАНИЯ К СОДЕРЖАНИЮ ЗАЯВКИ участника запро...</td>\n",
              "      <td>обеспечение исполнения контракта</td>\n",
              "      <td>Поставщик должен предоставить обеспечение испо...</td>\n",
              "    </tr>\n",
              "    <tr>\n",
              "      <th>2</th>\n",
              "      <td>4382157</td>\n",
              "      <td>Извещение о проведении электронного аукциона д...</td>\n",
              "      <td>обеспечение исполнения контракта</td>\n",
              "      <td>Размер обеспечения исполнения контракта 10.00%</td>\n",
              "    </tr>\n",
              "    <tr>\n",
              "      <th>3</th>\n",
              "      <td>184555082</td>\n",
              "      <td>Извещение о проведении электронного аукциона д...</td>\n",
              "      <td>обеспечение исполнения контракта</td>\n",
              "      <td>Размер обеспечения исполнения контракта 10.00%</td>\n",
              "    </tr>\n",
              "    <tr>\n",
              "      <th>4</th>\n",
              "      <td>211645258</td>\n",
              "      <td>Извещение о проведении электронного аукциона д...</td>\n",
              "      <td>обеспечение исполнения контракта</td>\n",
              "      <td>Размер обеспечения исполнения контракта 10.00%</td>\n",
              "    </tr>\n",
              "  </tbody>\n",
              "</table>\n",
              "</div>\n",
              "      <button class=\"colab-df-convert\" onclick=\"convertToInteractive('df-9fda46c5-fa43-4108-8dc0-7ecb27010cf3')\"\n",
              "              title=\"Convert this dataframe to an interactive table.\"\n",
              "              style=\"display:none;\">\n",
              "        \n",
              "  <svg xmlns=\"http://www.w3.org/2000/svg\" height=\"24px\"viewBox=\"0 0 24 24\"\n",
              "       width=\"24px\">\n",
              "    <path d=\"M0 0h24v24H0V0z\" fill=\"none\"/>\n",
              "    <path d=\"M18.56 5.44l.94 2.06.94-2.06 2.06-.94-2.06-.94-.94-2.06-.94 2.06-2.06.94zm-11 1L8.5 8.5l.94-2.06 2.06-.94-2.06-.94L8.5 2.5l-.94 2.06-2.06.94zm10 10l.94 2.06.94-2.06 2.06-.94-2.06-.94-.94-2.06-.94 2.06-2.06.94z\"/><path d=\"M17.41 7.96l-1.37-1.37c-.4-.4-.92-.59-1.43-.59-.52 0-1.04.2-1.43.59L10.3 9.45l-7.72 7.72c-.78.78-.78 2.05 0 2.83L4 21.41c.39.39.9.59 1.41.59.51 0 1.02-.2 1.41-.59l7.78-7.78 2.81-2.81c.8-.78.8-2.07 0-2.86zM5.41 20L4 18.59l7.72-7.72 1.47 1.35L5.41 20z\"/>\n",
              "  </svg>\n",
              "      </button>\n",
              "      \n",
              "  <style>\n",
              "    .colab-df-container {\n",
              "      display:flex;\n",
              "      flex-wrap:wrap;\n",
              "      gap: 12px;\n",
              "    }\n",
              "\n",
              "    .colab-df-convert {\n",
              "      background-color: #E8F0FE;\n",
              "      border: none;\n",
              "      border-radius: 50%;\n",
              "      cursor: pointer;\n",
              "      display: none;\n",
              "      fill: #1967D2;\n",
              "      height: 32px;\n",
              "      padding: 0 0 0 0;\n",
              "      width: 32px;\n",
              "    }\n",
              "\n",
              "    .colab-df-convert:hover {\n",
              "      background-color: #E2EBFA;\n",
              "      box-shadow: 0px 1px 2px rgba(60, 64, 67, 0.3), 0px 1px 3px 1px rgba(60, 64, 67, 0.15);\n",
              "      fill: #174EA6;\n",
              "    }\n",
              "\n",
              "    [theme=dark] .colab-df-convert {\n",
              "      background-color: #3B4455;\n",
              "      fill: #D2E3FC;\n",
              "    }\n",
              "\n",
              "    [theme=dark] .colab-df-convert:hover {\n",
              "      background-color: #434B5C;\n",
              "      box-shadow: 0px 1px 3px 1px rgba(0, 0, 0, 0.15);\n",
              "      filter: drop-shadow(0px 1px 2px rgba(0, 0, 0, 0.3));\n",
              "      fill: #FFFFFF;\n",
              "    }\n",
              "  </style>\n",
              "\n",
              "      <script>\n",
              "        const buttonEl =\n",
              "          document.querySelector('#df-9fda46c5-fa43-4108-8dc0-7ecb27010cf3 button.colab-df-convert');\n",
              "        buttonEl.style.display =\n",
              "          google.colab.kernel.accessAllowed ? 'block' : 'none';\n",
              "\n",
              "        async function convertToInteractive(key) {\n",
              "          const element = document.querySelector('#df-9fda46c5-fa43-4108-8dc0-7ecb27010cf3');\n",
              "          const dataTable =\n",
              "            await google.colab.kernel.invokeFunction('convertToInteractive',\n",
              "                                                     [key], {});\n",
              "          if (!dataTable) return;\n",
              "\n",
              "          const docLinkHtml = 'Like what you see? Visit the ' +\n",
              "            '<a target=\"_blank\" href=https://colab.research.google.com/notebooks/data_table.ipynb>data table notebook</a>'\n",
              "            + ' to learn more about interactive tables.';\n",
              "          element.innerHTML = '';\n",
              "          dataTable['output_type'] = 'display_data';\n",
              "          await google.colab.output.renderOutput(dataTable, element);\n",
              "          const docLink = document.createElement('div');\n",
              "          docLink.innerHTML = docLinkHtml;\n",
              "          element.appendChild(docLink);\n",
              "        }\n",
              "      </script>\n",
              "    </div>\n",
              "  </div>\n",
              "  "
            ]
          },
          "metadata": {},
          "execution_count": 22
        }
      ]
    },
    {
      "cell_type": "markdown",
      "source": [
        "Проверим мою теорию, что каждый из извлеченных фрагментов представляет собой целое предложение, а не кусок из него. Для этого просто посмотрим на то, у всех ли фрагментов первая буква - большая, а в конце стоит точка. Документ официальный, так что очевидно предложение не начнется с маленькой буквы и не закончится воскл. знаком или смайликом)"
      ],
      "metadata": {
        "id": "0YSmRXHQOUaR"
      }
    },
    {
      "cell_type": "code",
      "source": [
        "for text in train_df_spacy.extracted_text:\n",
        "  if text[-1] not in [\".\", \"?\", \"!\"]:\n",
        "    print(\"данный фрагмент не имеет точки в конце:\", text)\n",
        "    break;\n",
        "for text in train_df_spacy.extracted_text:\n",
        "  if not text[0].isupper():\n",
        "    print(\"данный фрагмент не начинается с заглавной буквы:\", text)\n",
        "    break;"
      ],
      "metadata": {
        "colab": {
          "base_uri": "https://localhost:8080/"
        },
        "id": "Nr_K1WaIOpEZ",
        "outputId": "251b0e24-5d61-4b71-ece0-a5417d9ed740"
      },
      "execution_count": null,
      "outputs": [
        {
          "output_type": "stream",
          "name": "stdout",
          "text": [
            "данный фрагмент не имеет точки в конце: Размер обеспечения исполнения контракта 6593.25 Российский рубль\n",
            "данный фрагмент не начинается с заглавной буквы: таким участником обеспечения исполнения контракта в размере, превышающем в 1,5 раза размер обеспечения исполнения контракта, указанный в извещении, но не менее чем 10 процентов от начальной (максимальной) цены контракта\n"
          ]
        }
      ]
    },
    {
      "cell_type": "markdown",
      "source": [
        "Значит фрагменты не всегда полноценные предложения. Дальше разберемся с каждой меткой отдельно"
      ],
      "metadata": {
        "id": "lGBOiOu3MVVJ"
      }
    },
    {
      "cell_type": "markdown",
      "source": [
        "#2. Углубимся. Разберемся с \"обеспечением гарантийных обязательств\"\n",
        "[Назад вверх](#scrollTo=9XBkY-v3_bc-)\n",
        "\n",
        "Посмотрим на самые часто встречающиеся слова в нужным нам фрагментах"
      ],
      "metadata": {
        "id": "6Yr44XjW7Ivk"
      }
    },
    {
      "cell_type": "code",
      "source": [
        "train_df_spacy_garant = train_df_spacy[train_df_spacy[\"label\"] == \"обеспечение гарантийных обязательств\"]"
      ],
      "metadata": {
        "id": "CfDpDssRJ-TI"
      },
      "execution_count": null,
      "outputs": []
    },
    {
      "cell_type": "code",
      "source": [
        "counter = Counter()\n",
        "\n",
        "for text in train_df_spacy_garant.extracted_text:\n",
        "  words = [analyzer.parse(word)[0].normal_form for word in text.split(\" \") if re.fullmatch(\"[а-яА-Яa-zA-Z]*\", word) is not None]\n",
        "  counter.update(words)\n"
      ],
      "metadata": {
        "id": "l1SM6xe87i4N"
      },
      "execution_count": null,
      "outputs": []
    },
    {
      "cell_type": "code",
      "source": [
        "train_df_spacy_garant.shape[0]"
      ],
      "metadata": {
        "colab": {
          "base_uri": "https://localhost:8080/"
        },
        "id": "pn_-bWVnJXx1",
        "outputId": "6387c417-83e6-4374-9630-9391ac669959"
      },
      "execution_count": null,
      "outputs": [
        {
          "output_type": "execute_result",
          "data": {
            "text/plain": [
              "508"
            ]
          },
          "metadata": {},
          "execution_count": 26
        }
      ]
    },
    {
      "cell_type": "code",
      "source": [
        "counter.most_common(20)"
      ],
      "metadata": {
        "colab": {
          "base_uri": "https://localhost:8080/"
        },
        "id": "76Qbo59-8WYV",
        "outputId": "d798e579-101c-4b45-e422-78d341fd25c5"
      },
      "execution_count": null,
      "outputs": [
        {
          "output_type": "execute_result",
          "data": {
            "text/plain": [
              "[('обеспечение', 545),\n",
              " ('гарантийный', 536),\n",
              " ('размер', 480),\n",
              " ('обязательство', 471),\n",
              " ('цена', 268),\n",
              " ('рубль', 248),\n",
              " ('начальный', 231),\n",
              " ('от', 204),\n",
              " ('составлять', 194),\n",
              " ('российский', 176),\n",
              " ('в', 167),\n",
              " ('что', 118),\n",
              " ('исполнение', 87),\n",
              " ('договор', 71),\n",
              " ('контракт', 68),\n",
              " ('устанавливаться', 57),\n",
              " ('не', 55),\n",
              " ('процент', 47),\n",
              " ('по', 36),\n",
              " ('и', 36)]"
            ]
          },
          "metadata": {},
          "execution_count": 27
        }
      ]
    },
    {
      "cell_type": "markdown",
      "source": [
        "Видим, что непустых строк 508, а некоторые слова встречаются >508 раз. В теории может быть такое, что формы слов \"обеспечение\" и \"гарантиный\" встречаются в каждом фрагменте. Проверим это, а также сразу посмотрим на формы этих слов, что встречаются в фрагментах."
      ],
      "metadata": {
        "id": "kCuEprYHJTfW"
      }
    },
    {
      "cell_type": "code",
      "source": [
        "counter = Counter()\n",
        "ob_count = 0\n",
        "gar_count = 0\n",
        "for text in train_df_spacy_garant.extracted_text:\n",
        "  words = [word for word in text.split(\" \") if re.fullmatch(\"[а-яА-Яa-zA-Z]*\", word) is not None]\n",
        "  gar_bool = False\n",
        "  ob_bool = False\n",
        "  for word in words:\n",
        "    if analyzer.parse(word)[0].normal_form == \"обеспечение\":\n",
        "      counter.update([word])\n",
        "      ob_bool=True\n",
        "    elif analyzer.parse(word)[0].normal_form == \"гарантийный\":\n",
        "      counter.update([word])\n",
        "      gar_bool=True\n",
        "  if gar_bool:\n",
        "    gar_count+=1\n",
        "  if ob_bool:\n",
        "    ob_count+=1\n",
        "ob_count, gar_count, counter.most_common(20)"
      ],
      "metadata": {
        "colab": {
          "base_uri": "https://localhost:8080/"
        },
        "id": "pxXF8_KDJ7yh",
        "outputId": "6ab53e63-3d2a-4b66-a8d5-c4d274da0057"
      },
      "execution_count": null,
      "outputs": [
        {
          "output_type": "execute_result",
          "data": {
            "text/plain": [
              "(508,\n",
              " 508,\n",
              " [('гарантийных', 522),\n",
              "  ('обеспечения', 408),\n",
              "  ('Обеспечение', 77),\n",
              "  ('обеспечение', 46),\n",
              "  ('обеспечению', 7),\n",
              "  ('гарантийного', 6),\n",
              "  ('обеспечении', 6),\n",
              "  ('Гарантийные', 3),\n",
              "  ('Гарантийное', 3),\n",
              "  ('Гарантийных', 1),\n",
              "  ('гарантийный', 1),\n",
              "  ('обеспечением', 1)])"
            ]
          },
          "metadata": {},
          "execution_count": 28
        }
      ]
    },
    {
      "cell_type": "markdown",
      "source": [
        "Отлично. Видим, что оба этих слова встречаются в абсолютно всех фрагментов в какой-либо форме хотя бы раз.\n",
        "Также видим, что каждый фрагмент содержит в разных падежах слова \"гарантийный\" и \"обеспечение\". Причем, гарантийный в предложении почти всегда имеет одну функцию, а \"обеспечение\" представлено в разных, так как оно встречается как в именительном падеже(роль подлежащего), так и в, как пример, творительном падеже, что уже роль дополнения.\n",
        "В числе популярных слов имеется слово \"размер\""
      ],
      "metadata": {
        "id": "dA2WsBA6NTFy"
      }
    },
    {
      "cell_type": "markdown",
      "source": [
        "Посмотрим на фрагменты без слова \"обязательство\" и форм"
      ],
      "metadata": {
        "id": "r0b9VRCuzTqa"
      }
    },
    {
      "cell_type": "code",
      "source": [
        "for text in train_df_spacy_garant.extracted_text:\n",
        "  words = [analyzer.parse(word)[0].normal_form for word in text.split(\" \") if re.fullmatch(\"[а-яА-Яa-zA-Z]*\", word) is not None]\n",
        "  if \"обязательство\" not in words:\n",
        "    print(text)"
      ],
      "metadata": {
        "colab": {
          "base_uri": "https://localhost:8080/"
        },
        "id": "N2wETvyKzWCf",
        "outputId": "8b5a0a1e-e287-4895-a104-48ed919ce57f"
      },
      "execution_count": null,
      "outputs": [
        {
          "output_type": "stream",
          "name": "stdout",
          "text": [
            "Размер обеспечения гарантийных обязательств, предусмотренных Контрактом, составляет 1 (один) процент от начальной (максимальной) цены контракта.\n",
            "В соответствии с требованиями извещений об электронном аукционе Размер обеспечения гарантийных обязательств: 0,00 рублей.\n",
            "Размер обеспечения гарантийных обязательств, предусмотренных Контрактом, составляет 30 (тридцать) процентов от начальной (максимальной) цены контракта.\n",
            "Размер обеспечения гарантийных обязательств: – предусмотрен, и составляет 10 % от НМЦК, что составляет 135 244 (сто тридцать тысяч двести сорок четыре) рубля 20 копеек.\n",
            "В соответствии с требованиями извещений об электронном аукционе Размер обеспечения гарантийных обязательств: 0,00 рублей. Доля: 0,00 % от начальной (максимальной) цены контракта\n",
            "Размер обеспечения гарантийных обязательств: 1% от начальной (максимальной) цены контракта (максимального значения цены контракта)\n",
            "В соответствии с требованиями извещений об электронном аукционе Размер обеспечения гарантийных обязательств: 0,00 рублей.\n",
            "Размер обеспечения гарантийных обязательств: 0,00 рублей.\n",
            "Размер обеспечения гарантийных обязательств, порядок предоставления такого обеспечения, требования к такому обеспечению 2% от НМЦК – 120 880,00 рублей\n",
            "В соответствии с требованиями извещений об электронном аукционе Размер обеспечения гарантийных обязательств: 0,00 рублей. Доля: 0,00 % от начальной (максимальной) цены контракта\n",
            "Размер обеспечения исполнения контракта, гарантийных обязательств, порядок предоставления такого обеспечения, требования к такому обеспечению: 10% от цены контракта.\n",
            "Размер обеспечения гарантийных обязательств: 0,00 рублей.\n",
            "Размер обеспечения исполнения контракта, гарантийных обязательств, порядок предоставления такого обеспечения, требования к такому обеспечению 5 процентов от цены контракта.\n",
            "Размер обеспечения гарантийных обязательств: 0,00 рублей.\n",
            "Размер обеспечения гарантийных обязательств: 0,00 рублей.\n",
            "Размер обеспечения исполнения контракта, гарантийных обязательств, порядок предоставления такого обеспечения, требования к такому обеспечению 10 процентов от начальной (максимальной) цены контракта, что составляет 19 992 руб. 26 коп.\n",
            "Размер обеспечения гарантийных обязательств: 0,00 рублей.\n",
            "Размер обеспечения гарантийных обязательств: 5 % (пять процентов) начальной (максимальной) цены Контракта, что составляет 19 934\n",
            "Размер обеспечения гарантийных обязательств: 5% от начальной (максимальной) цены контракта (максимального значения цены контракта)\n",
            "Размер обеспечения гарантийных обязательств: 0,00 рублей. Доля: 0,00 % от начальной (максимальной) цены контракта\n",
            "Поставщик предоставляет обеспечение гарантийных обязательств, указанных в Разделе 10 Контракта в размере 0,1% от начальной (максимальной) цены Контракта в сумме 761,38 руб.\n",
            "Размер обеспечения гарантийных обязательств: 0,00 рублей.\n",
            "Размер обеспечения гарантийных обязательств: 0,00 рублей.\n",
            "Размер обеспечения гарантийных обязательств, порядок предоставления такого обеспечения, требования к такому обеспечению 0,9 % от начальной (максимальной) цены контракта, что составляет 9 487,50 руб.\n",
            "Размер обеспечения гарантийных обязательств: 1 (один) процент начальной (максимальной) цены контракта.\n",
            "Размер обеспечения гарантийных обязательств: 1% от начальной (максимальной) цены контракта (договора), что составляет 15 474,91 рублей (пятнадцать тысяч четыреста семьдесят четыре рубля 91 копейка).\n",
            "Установлен Размер обеспечения гарантийных обязательств: 5 % от начальной (максимальной) цены договора, что составляет 206 650\n",
            "Если договором предусмотрено предоставление обеспечения гарантийных обязательств, размер такого обеспечения может составлять от 0,01% до 10% от цены договора (лота) (максимального значения цены договора).\n",
            "Обеспечение возврата аванса и/или гарантийных обязательств: Установлено.\n",
            "Обеспечение исполнения договора, гарантийных обязательств.\n",
            "Установлен Размер обеспечения гарантийных обязательств: 10 % от начальной (максимальной) цены договора, что составляет 19 953\n",
            "Размер обеспечения исполнения договора и/или обеспечения исполнения гарантийных обязательств, срок и порядок их предоставления и возврата, требования к такому обеспечению 5 % от начальной (максимальной) цены договора в сумме 100 785.10 руб.\n",
            "Обеспечение гарантийных обязательств: Не установлено\n",
            "Установлен Размер обеспечения гарантийных обязательств: 10 % от начальной (максимальной) цены договора, что составляет 166 680\n",
            "Обеспечение гарантийных обязательств: Не установлено\n",
            "Обеспечение гарантийных обязательств: Не установлено\n",
            "если Заказчиком установлено требование обеспечения исполнения договора и/или обеспечения исполнения гарантийных обязательств.\n",
            "Обеспечение гарантийных обязательств: Не установлено\n",
            "Обеспечение гарантийных обязательств: Не установлено\n",
            "Размер обеспечения исполнения Договора и (или) обеспечения исполнения гарантийных обязательств, срок и порядок их предоставления Обеспечение исполнения Договора составляет - 15% от начальной (максимальной) цены Договора, что составляет 5 006 444\n",
            "Размер обеспечения исполнения договора (или) гарантийных обязательств. Установлено в размере 5 (пяти) % от начальной максимальной цены Договора на сумму 90 200 (Девяносто тысяч двести) рублей 42 копейки.\n",
            "Размер обеспечения гарантийных обязательств: 1% от начальной (максимальной) цены контракта (договора), что составляет 24 992,34 рублей (двадцать четыре тысячи девятьсот девяносто два рубля 34 копейки).\n",
            "Если договором предусмотрено предоставление обеспечения гарантийных обязательств, размер такого обеспечения может составлять от 0,01% до 10% от цены договора (лота) (максимального значения цены договора).\n",
            "Обеспечение возврата аванса и/или гарантийных обязательств: не установлено\n",
            "НДС 20%, сборы и иные обязательные платежи, а также все расходы, связанные с обеспечением гарантийных обязательств.\n",
            "Устанавливается Размер обеспечения исполнения гарантийных обязательств: 5 % от начальной (максимальной) цены договора\n",
            "Размер обеспечения исполнения договора (или) гарантийных обязательств. Установлено в размере 5 (пяти) % от начальной максимальной цены Договора на сумму 58 769\n",
            "Заказчиком установлено требование обеспечения исполнения договора и (или) обеспечения исполнения гарантийных обязательств. 5% от начальной (максимальной) цены договора, что составляет 27450\n"
          ]
        }
      ]
    },
    {
      "cell_type": "markdown",
      "source": [
        "Видим, что возникла небольшая проблема у библиотеки и на самом деле все фрагменты содержат слово \"обязательства\". Посмотрим на фрагменты без слова \"размер\""
      ],
      "metadata": {
        "id": "FbrYahJZzmO3"
      }
    },
    {
      "cell_type": "code",
      "source": [
        "for text in train_df_spacy_garant.extracted_text:\n",
        "  words = [analyzer.parse(word)[0].normal_form for word in text.split(\" \") if re.fullmatch(\"[а-яА-Яa-zA-Z]*\", word) is not None]\n",
        "  if \"размер\" not in words:\n",
        "    print(text)"
      ],
      "metadata": {
        "colab": {
          "base_uri": "https://localhost:8080/"
        },
        "id": "nPWtHo0PPri9",
        "outputId": "449926bd-fcf5-4735-896b-5e8428ed4d30"
      },
      "execution_count": null,
      "outputs": [
        {
          "output_type": "stream",
          "name": "stdout",
          "text": [
            "Обеспечение гарантийных обязательств 5% от НМЦК.\n",
            "Заказчиком установлено требование обеспечения исполнения договора и (или) обеспечения исполнения гарантийных обязательств 5% от начальной (максимальной) цены договора, что составляет 89 649\n",
            "Обеспечение гарантийных обязательств по Договору Устанавливается 5% от начальной максимальной цены договора\n",
            "Обеспечение гарантийных обязательств по Договору Устанавливается 5% от начальной максимальной цены договора- 27 400,00 (Двадцать семь тысяч четыреста) рублей 00 копеек\n",
            "Обеспечение гарантийных обязательств (1% от НМЦК)\n",
            "Поставщик предоставляет обеспечение гарантийных обязательств в форме -------, на сумму 00 рублей 00 копеек.\n",
            "Подрядчик предоставляет обеспечение гарантийных обязательств в размере: 93 191,85 (девяносто три тысячи сто девяносто один руб. 85 коп.) рублей (1% начальной (максимальной) цены контракта).\n",
            "Сумма обеспечения исполнения гарантийных обязательств по контракту составляет: 300 000 (Триста тысяч) рублей 00 копеек.\n",
            "Требование к обеспечению гарантийных обязательств - 1 % от цены контракта, по которой будет заключаться контракт по итогам электронного аукциона.\n",
            "Сумма обеспечения гарантийных обязательств по Контракту составляет 10 % от начальной (максимальной) цены Контракта и составляет 1 102 924 рублей 03 копейки\n",
            "Обеспечение гарантийных обязательств предоставляется Поставщиком Заказчику не позднее даты\n",
            "если требование обеспечения исполнения контракта, гарантийных обязательств установлено в соответствии со статьей 96 настоящего Федерального закона\n",
            "Исполнитель предоставляет обеспечение гарантийных обязательств на сумму 148 959,00 рублей.\n",
            "Сумма обеспечения гарантийных обязательств предусмотрено в следующем размере: - 2 % от начальной (максимальной) цены договора, что составляет: 519 902,60 руб., НДС не облагается.\n",
            "Обеспечение возврата аванса и/или гарантийных обязательств: Установлено.\n",
            "Обеспечение исполнения гарантийных обязательств по настоящему Договору представляется на сумму не менее 5% от стоимости всех выполненных работ.\n",
            "Обеспечение исполнения договора, гарантийных обязательств.\n",
            "Обеспечение исполнения гарантийных обязательств по настоящему Договору представляется на сумму не менее 5% от стоимости всех выполненных работ.\n",
            "Обеспечение гарантийных обязательств: Не установлено\n",
            "Сумма обеспечения исполнения гарантийных обязательств предусмотрена в следующем размере: 4 % от цены предложенной победителем закупки, НДС не облагается.\n",
            "Обеспечение гарантийных обязательств по Договору Устанавливается 5% от начальной максимальной цены договора\n",
            "Сумма обеспечения исполнения гарантийных обязательств предусмотрена в следующем размере: 3 % от цены предложенной победителем закупки, НДС не облагается.\n",
            "Обеспечение гарантийных обязательств: Не установлено\n",
            "Обеспечение гарантийных обязательств: Не установлено\n",
            "взамен ранее предоставленного обеспечения гарантийных обязательств новое обеспечение гарантийных обязательств.\n",
            "если Заказчиком установлено требование обеспечения исполнения договора и/или обеспечения исполнения гарантийных обязательств.\n",
            "Обеспечение гарантийных обязательств: Не установлено\n",
            "Обеспечение исполнения гарантийных обязательств по настоящему Договору представляется на сумму не менее 5% от стоимости всех выполненных работ.\n",
            "Подрядчик обязан предоставить Заказчику обеспечение гарантийных обязательств на сумму ________ руб. (_______________ рублей __ копеек), что составляет 0,1% от цены Договора, в форме _____________ (независимой гарантии или путем внесения денежных средств\n",
            "Сумма обеспечения исполнения гарантийных обязательств предусмотрена в следующем размере: 0,1 % от цены предложенной победителем закупки, НДС не облагается.\n",
            "взамен ранее предоставленного обеспечения гарантийных обязательств новое обеспечение гарантийных обязательств.\n",
            "Сумма обеспечения исполнения гарантийных обязательств предусмотрена в следующем размере: 0,1 % от цены предложенной победителем закупки, НДС не облагается.\n",
            "Подрядчик обязан предоставить Заказчику обеспечение гарантийных обязательств на сумму ________ руб. (_______________ рублей __ копеек), что составляет 0,1% от цены Договора, в форме _____________ (независимой гарантии или путем внесения денежных средств\n",
            "Обеспечение гарантийных обязательств: Не установлено\n",
            "Подрядчик обязан предоставить Заказчику обеспечение гарантийных обязательств на сумму ________ руб. (_______________ рублей __ копеек), что составляет 0,1% от цены Договора, в форме _____________ (независимой гарантии или путем внесения денежных средств\n",
            "Требование об обеспечении исполнения гарантийных обязательств 5% от стоимости выполненных Работ\n",
            "Заказчиком установлено требование обеспечения исполнения договора и (или) обеспечения исполнения гарантийных обязательств 5%, 132 589,74 (Сто тридцать две тысячи пятьсот восемьдесят девять рублей 74 копеек) рублей.\n",
            "Требование об обеспечении исполнения гарантийных обязательств 5% от стоимости выполненных Работ\n",
            "Поставщик представляет Заказчику обеспечение гарантийных обязательств на сумму 5% от суммы начальной (максимальной) цены Договора, что составляет: 19 500,00\n",
            "Подрядчик обязан предоставить Заказчику обеспечение гарантийных обязательств на сумму ________ руб. (_______________ рублей __ копеек), что составляет 3 % от цены Договора, в форме _____________ (независимой гарантии или путем внесения денежных средств\n",
            "Сумма обеспечения гарантийных обязательств предусмотрено в следующем размере: - 2 % от начальной (максимальной) цены договора, что составляет: 244 997,60 руб., НДС не облагается.\n",
            "Поставщик может предоставить Покупателю в качестве обеспечения исполнения гарантийных обязательств безусловную и безотзывную банковскую гарантию на сумму равную не менее 5% (пять процентов) от стоимости работ.\n",
            "взамен ранее предоставленного обеспечения гарантийных обязательств новое обеспечение гарантийных обязательств.\n",
            "Обеспечение гарантийных обязательств по Договору Устанавливается 5% от начальной максимальной цены договора- 22 500,00 (Двадцать две тысячи пятьсот) рублей 00 копеек.\n",
            "Сумма обеспечения исполнения гарантийных обязательств предусмотрена в следующем размере: 3 % от цены предложенной победителем закупки, НДС не облагается.\n",
            "Обеспечение возврата аванса и/или гарантийных обязательств: не установлено\n",
            "Сумма обеспечения гарантийных обязательств предусмотрено в следующем размере: - 2 % от начальной (максимальной) цены договора, что составляет: 189 989,80 руб., НДС не облагается.\n",
            "Обеспечение гарантийных обязательств по договору ☒ Не требуется. ☐ Сумма обеспечения гарантийных обязательств по договору составляет 10% от цены договора.\n",
            "НДС 20%, сборы и иные обязательные платежи, а также все расходы, связанные с обеспечением гарантийных обязательств.\n",
            "Сумма обеспечения гарантийных обязательств предусмотрено в следующем размере: - 2 % от начальной (максимальной) цены договора, что составляет: 213 991,00 руб., НДС не облагается.\n",
            "взамен ранее предоставленного обеспечения гарантийных обязательств новое обеспечение гарантийных обязательств.\n",
            "Заказчиком установлено требование обеспечения исполнения договора и (или) обеспечения исполнения гарантийных обязательств. 5% от начальной (максимальной) цены договора, что составляет 27450\n"
          ]
        }
      ]
    },
    {
      "cell_type": "markdown",
      "source": [
        "Посмотрим на окружение этих фрагментов. Я взял без кода случайный пример из тренировочного набора. Вытащенный фрагмент выглядит так: **Размер обеспечения гарантийных обязательств 560023.30 Российский рубль**.\n",
        "\n",
        "Окружение выглядит так: **Обеспечение гарантийных обязательств Требуется обеспечение гарантийных обязательств Размер обеспечения гарантийных обязательств 560023.30 Российский рубль Порядок предоставления обеспечения гарантийных обязательств, требования к обеспечению Исполнение контракта**\n",
        "\n",
        "И на примерах сверху, и тут, видно, что нужные нам фрагменты соответствуют двум \"общим\" шаблонам.\n",
        "1. Фрагмент где написано, что обеспечение не установлено\n",
        "2. Фрагменты, где указана как-либо денежная сумма, связанная с обеспечением и соответствующие ключевые слова: сумма, размер, цена, %, рублей и так далее.\n",
        "\n",
        "Последняя вещь - это проверка окружения для фрагментов, будто вытащенных из предложения, контекста.\n",
        "# Пример 1. ID: 941320396\n",
        "Фрагмент: **взамен ранее предоставленного обеспечения гарантийных обязательств новое обеспечение гарантийных обязательств.**\n",
        "\n",
        "Окружение фрагмента: **Поставщик вправе изменить способ обеспечения гарантийных обязательств и (или) предоставить Заказчику взамен ранее предоставленного обеспечения гарантийных обязательств новое обеспечение гарантийных обязательств**\n",
        "\n",
        "Видим, что данный фрагмент лучше выглядит в виде полноценного предложения. Также видим, что этот пример, в отличие от других, не связан с деньгами, а главное, не содержит конкретных цифр.\n",
        "\n",
        "# Пример 2. ID: 852298687\n",
        "Фрагмент: **Обеспечение исполнения договора, гарантийных обязательств.**\n",
        "\n",
        "Окружение: **Обеспечение исполнения договора, гарантийных обязательств.  Способ обеспечения исполнения....**\n",
        "\n",
        "Здесь я не вставил все, что было после вытащенного фрагмента. Суть в том, что об гарантийных обязательствах там ничего не сказано, и как фрагмент было вытащено это. Хотя в остальных случаях, когда в тексте есть конкретика про размер, подобного рода \"заголовок\" не вытаскивается.\n",
        "\n",
        "# Пример 3 доказывающий пример 2. ID: 948128188\n",
        "Фрагмент: **Установлен Размер обеспечения гарантийных обязательств: 10 % от начальной (максимальной) цены договора, что составляет 19 953**\n",
        "\n",
        "Окружение: **Размер обеспечения гарантийных обязательств Установлен Размер обеспечения гарантийных обязательств: 10 % от начальной (максимальной) цены договора, что составляет 19 953 (Девятнадцать тысяч девятьсот пятьдесят три) рубля 33 копейки**\n",
        "\n",
        "Видим, что здесь тоже есть заголовок про гар. обязательства, но он не включен, как и в других фрагментах. Также видим, что фрагмент обрезан, причем в важном месте. Здесь также стоило бы выделить все предложение, что я и буду делать.\n",
        "\n",
        "Также заметим еще важную вещь, что здесь проявилась проблема не идеального тренировочного набора. Некоторые предложения не разделены корректно, заголовки не отделены точкой. Эт\n",
        "\n",
        "# Выводы:\n",
        "- Можно выделять все предложение, так будет часто правильнее\n",
        "- Почти все фрагменты связаны с деньгами, времени и прочим, причем включают в себя конкретные цифры. Небольшая часть это не соблюдает, возможно это выбросы"
      ],
      "metadata": {
        "id": "XfydnnBHqUmt"
      }
    },
    {
      "cell_type": "markdown",
      "source": [
        "Проверим, сколько фрагментов содержит цифры и глянем на те, что не содержат"
      ],
      "metadata": {
        "id": "8zZqe8lwuy5E"
      }
    },
    {
      "cell_type": "code",
      "source": [
        "count = 0\n",
        "for text in train_df_spacy_garant.extracted_text:\n",
        "  if re.fullmatch(\".*\\d.*\", text):\n",
        "    count+=1\n",
        "  else:\n",
        "    print(text)\n",
        "  \n",
        "print(count)\n",
        "del count"
      ],
      "metadata": {
        "colab": {
          "base_uri": "https://localhost:8080/"
        },
        "id": "S34GnPvyvVxt",
        "outputId": "b59fe941-e2dc-4b78-b52c-27ce2bc166c3"
      },
      "execution_count": null,
      "outputs": [
        {
          "output_type": "stream",
          "name": "stdout",
          "text": [
            "Размер обеспечения гарантийных обязательств не установлен.\n",
            "Обеспечение гарантийных обязательств предоставляется Поставщиком Заказчику не позднее даты\n",
            "Обеспечение возврата аванса и/или гарантийных обязательств: Установлено.\n",
            "Обеспечение исполнения договора, гарантийных обязательств.\n",
            "Обеспечение гарантийных обязательств: Не установлено\n",
            "Обеспечение гарантийных обязательств: Не установлено\n",
            "Обеспечение гарантийных обязательств: Не установлено\n",
            "взамен ранее предоставленного обеспечения гарантийных обязательств новое обеспечение гарантийных обязательств.\n",
            "если Заказчиком установлено требование обеспечения исполнения договора и/или обеспечения исполнения гарантийных обязательств.\n",
            "Обеспечение гарантийных обязательств: Не установлено\n",
            "взамен ранее предоставленного обеспечения гарантийных обязательств новое обеспечение гарантийных обязательств.\n",
            "Обеспечение гарантийных обязательств: Не установлено\n",
            "взамен ранее предоставленного обеспечения гарантийных обязательств новое обеспечение гарантийных обязательств.\n",
            "Обеспечение возврата аванса и/или гарантийных обязательств: не установлено\n",
            "взамен ранее предоставленного обеспечения гарантийных обязательств новое обеспечение гарантийных обязательств.\n",
            "493\n"
          ]
        }
      ]
    },
    {
      "cell_type": "markdown",
      "source": [
        "Здорово. Видим, что почти все фрагменты содержат цифры(как и говорилось ранее), либо упоминают, что обеспечение не установлено (**используя конкретное словосочетание \"не установлено\" и его формы). Также есть фраза \"взамен ранее предоставленного обеспечения гарантийных обязательств новое обеспечение гарантийных обязательств.\""
      ],
      "metadata": {
        "id": "5exifxifv7_E"
      }
    },
    {
      "cell_type": "markdown",
      "source": [
        "Используя spacy, начнем анализировать синтаксическую роль слов \"обеспечение\" и \"гарантийный\", в целом проанализируем фрагменты\n",
        "\n",
        "Начнем с того, что просто изобразим dependancy graph для некоторых фрагментов. Я все еще работаю с меткой \"обеспечение гарантийных обязательств\""
      ],
      "metadata": {
        "id": "eq8Exlz5Prs_"
      }
    },
    {
      "cell_type": "code",
      "source": [
        "doc = nlp(\"Сумма обеспечения гарантийных обязательств предусмотрена в следующем размере: - 2 % от начальной (максимальной) цены договора, что составляет: 213 991,00 руб., НДС не облагается.\")\n",
        "png = visualise_spacy_tree.visualise_spacy_tree.create_png(doc)\n",
        "display(Image(png))\n",
        "# тут есть и время, и размер в процентах"
      ],
      "metadata": {
        "colab": {
          "base_uri": "https://localhost:8080/",
          "height": 489
        },
        "id": "Zfjw4NPlvcJr",
        "outputId": "dc321cec-0832-45f9-d04f-aca84aa312ed"
      },
      "execution_count": null,
      "outputs": [
        {
          "output_type": "display_data",
          "data": {
            "image/png": "[encoded data removed]",
            "text/plain": [
              "<IPython.core.display.Image object>"
            ]
          },
          "metadata": {}
        }
      ]
    },
    {
      "cell_type": "code",
      "source": [
        "doc = nlp(\"по контракту Подрядчику надлежит предоставить обеспечение гарантийных обязательств в течение 5 дней и в размере 342 858,25 рублей, до оформления приемки выполненных работ по Контракту.\")\n",
        "png = visualise_spacy_tree.visualise_spacy_tree.create_png(doc)\n",
        "display(Image(png))"
      ],
      "metadata": {
        "colab": {
          "base_uri": "https://localhost:8080/",
          "height": 641
        },
        "id": "v2VtqDM8UDC9",
        "outputId": "c649036e-96d2-45c8-b81e-6efee5faf1ea"
      },
      "execution_count": null,
      "outputs": [
        {
          "output_type": "display_data",
          "data": {
            "image/png": "[encoded data removed]",
            "text/plain": [
              "<IPython.core.display.Image object>"
            ]
          },
          "metadata": {}
        }
      ]
    },
    {
      "cell_type": "code",
      "source": [
        "doc = nlp(\"Обеспечение гарантийных обязательств: Не установлено\")\n",
        "png = visualise_spacy_tree.visualise_spacy_tree.create_png(doc)\n",
        "display(Image(png))\n",
        "# фраза что обеспечения нет. Включает в себя двоеточие"
      ],
      "metadata": {
        "colab": {
          "base_uri": "https://localhost:8080/",
          "height": 302
        },
        "id": "w_3HVNfnw9aQ",
        "outputId": "1e9be15c-ae01-4903-eb5e-6c6964f2c66a"
      },
      "execution_count": null,
      "outputs": [
        {
          "output_type": "display_data",
          "data": {
            "image/png": "[encoded data removed]",
            "text/plain": [
              "<IPython.core.display.Image object>"
            ]
          },
          "metadata": {}
        }
      ]
    },
    {
      "cell_type": "markdown",
      "source": [
        "Далее идет один важный случай. Он особен тем, что показывает проблему тренировочного(и, возможно, тестового) набора: отсутствие точек в некоторых местах где они должны быть. Чаще всего это ситуации когда не отделены заголовки по типу \"Размер обеспечения гарантийных обязательств\" как в примере ниже. Обычно документы в трен. наборе не содержат заголовков, но иногда встречаются. "
      ],
      "metadata": {
        "id": "2mYtE_U8bkEC"
      }
    },
    {
      "cell_type": "code",
      "source": [
        "doc = nlp(\"Размер обеспечения гарантийных обязательств Установлен Размер обеспечения гарантийных обязательств: 10 % от начальной (максимальной) цены договора, что составляет 19 953 (Девятнадцать тысяч девятьсот пятьдесят три) рубля 33 копейки Порядок и срок предоставления такого обеспечения: установлен в Разделе 7.\")\n",
        "png = visualise_spacy_tree.visualise_spacy_tree.create_png(doc)\n",
        "display(Image(png))"
      ],
      "metadata": {
        "colab": {
          "base_uri": "https://localhost:8080/",
          "height": 560
        },
        "id": "pMf5CxMBc-_J",
        "outputId": "181699fb-139e-4d73-e3d4-944923cd2ef3"
      },
      "execution_count": null,
      "outputs": [
        {
          "output_type": "display_data",
          "data": {
            "image/png": "[encoded data removed]",
            "text/plain": [
              "<IPython.core.display.Image object>"
            ]
          },
          "metadata": {}
        }
      ]
    },
    {
      "cell_type": "markdown",
      "source": [
        "Выведем на экран все главные слова для слова \"обеспечение\" (такие как размер, сумма), если это слово не ROOT."
      ],
      "metadata": {
        "id": "6_4nphDqJxJt"
      }
    },
    {
      "cell_type": "code",
      "source": [
        "matcher = spacy.matcher.DependencyMatcher(nlp.vocab)\n",
        "pattern = [\n",
        "  {\n",
        "      \"RIGHT_ID\": \"main\", # главное слово для нас\n",
        "      \"RIGHT_ATTRS\": {} \n",
        "  },\n",
        "  {\n",
        "      \"LEFT_ID\": \"main\",\n",
        "      \"REL_OP\": \">\", # ближайший ребенок(зависимое слово)\n",
        "      \"RIGHT_ID\": \"obespechenie_word\", # Зависимое слово\n",
        "      \"RIGHT_ATTRS\": {\"LEMMA\": \"обеспечение\"}\n",
        "  },\n",
        "  {\n",
        "      \"LEFT_ID\": \"obespechenie_word\",\n",
        "      \"REL_OP\": \">\", # ближайший ребенок(зависимое слово)\n",
        "      \"RIGHT_ID\": \"obyazatelstvo_word\",\n",
        "      \"RIGHT_ATTRS\": {\"LEMMA\": \"обязательство\",\n",
        "                      \"DEP\": \"nmod\"} \n",
        "  },\n",
        "  {\n",
        "      \"LEFT_ID\": \"obyazatelstvo_word\",\n",
        "      \"REL_OP\": \">\", # ближайший ребенок(зависимое слово)\n",
        "      \"RIGHT_ID\": \"garant_word\",\n",
        "      \"RIGHT_ATTRS\": {\"LEMMA\": \"гарантийный\",\n",
        "                      \"DEP\": \"amod\"} # прилагательное\n",
        "  }\n",
        "]\n",
        "matcher.add(\"main\", [pattern])"
      ],
      "metadata": {
        "id": "njEPDd780000"
      },
      "execution_count": null,
      "outputs": []
    },
    {
      "cell_type": "code",
      "source": [
        "counter = Counter()\n",
        "for doc in nlp.pipe(train_df_spacy_garant.extracted_text):\n",
        "  matches = matcher(doc)\n",
        "  for match_id, token_ids in matches:\n",
        "    id = token_ids[0]\n",
        "    counter.update([doc[id].lemma_])\n",
        "    \n",
        "print(counter.most_common(20))"
      ],
      "metadata": {
        "id": "6MEcuify4uSH",
        "colab": {
          "base_uri": "https://localhost:8080/"
        },
        "outputId": "9c62dab8-69d6-417c-ea14-56204e64ee4e"
      },
      "execution_count": null,
      "outputs": [
        {
          "output_type": "stream",
          "name": "stdout",
          "text": [
            "[('размер', 324), ('устанавливаться', 37), ('предоставить', 15), ('предоставлять', 12), ('предоставляться', 6), ('установить', 6), ('сумма', 6), ('представляться', 6), ('предоставление', 6), ('обеспечение', 4), ('требование', 3), ('представлять', 2), ('гарантия', 2), ('экземпляр', 1), ('предусмотреть', 1), ('представить', 1), ('преставление', 1), ('требоваться', 1), ('связать', 1)]\n"
          ]
        }
      ]
    },
    {
      "cell_type": "markdown",
      "source": [
        "#2.5. Подготовка spacy\n",
        "[Назад вверх](#scrollTo=9XBkY-v3_bc-)\n",
        "\n",
        "Внесем некоторые изменения в образование токенов, предложений"
      ],
      "metadata": {
        "id": "KwxhBOdE_RAE"
      }
    },
    {
      "cell_type": "markdown",
      "source": [
        "Так как исходный докуменет менять не стоит, не будем ставить точки, а изменим правило деления на предложения и добавим разные особые случаи при токенизации\n",
        "\n",
        "Начнем с того, что иногда предложения начинаются или заканчиваются на цифры из списков(по типу 1.2.Some text). Когда нет пробела между цифрами и текстом, они не делятся на токены и этот случай нам нужно обработать самостоятельно. Сделано будет путем добавления нового префикса в токенайзер"
      ],
      "metadata": {
        "id": "3Fler4PpSj3c"
      }
    },
    {
      "cell_type": "code",
      "source": [
        "prefixes = nlp.Defaults.prefixes + [r'''^\\d{1,2}\\.(\\d{1,2}\\.){0,2}''',]\n",
        "prefix_regex = spacy.util.compile_prefix_regex(prefixes)\n",
        "nlp.tokenizer.prefix_search = prefix_regex.search"
      ],
      "metadata": {
        "id": "MQRZ42x9xK-o"
      },
      "execution_count": null,
      "outputs": []
    },
    {
      "cell_type": "markdown",
      "source": [
        "Теперь, когда нумерация отделена от предложений, нужно проверить не сломалось ли ничего и работает ли правильно рег. выражение. Для этого я выведу все токены, которые соответствуют этому шаблону на небольшом участке трен. набора"
      ],
      "metadata": {
        "id": "IqF31gjG-mfP"
      }
    },
    {
      "cell_type": "code",
      "source": [
        "counter = Counter()\n",
        "for text in train_df[:100].text:\n",
        "  doc = nlp(text)\n",
        "  for token in doc:\n",
        "    if re.fullmatch(\"^\\d{1,2}\\.(\\d{1,2}\\.){0,2}\", token.text) is not None:\n",
        "      counter.update([token.text])\n",
        "counter.most_common(20)"
      ],
      "metadata": {
        "colab": {
          "base_uri": "https://localhost:8080/"
        },
        "id": "OpNwOsbt8ZW2",
        "outputId": "b21b8df2-555d-4919-a5af-a2349db78ce0"
      },
      "execution_count": null,
      "outputs": [
        {
          "output_type": "execute_result",
          "data": {
            "text/plain": [
              "[('0.', 78),\n",
              " ('05.04.', 41),\n",
              " ('6.', 39),\n",
              " ('8.1.', 22),\n",
              " ('8.2.', 21),\n",
              " ('6.1.', 20),\n",
              " ('10.', 16),\n",
              " ('8.', 15),\n",
              " ('1.', 13),\n",
              " ('7.', 11),\n",
              " ('5.', 10),\n",
              " ('9.', 10),\n",
              " ('04.06.', 10),\n",
              " ('9.1.', 6),\n",
              " ('08.11.', 6),\n",
              " ('7.1.', 6),\n",
              " ('8.3.', 6),\n",
              " ('10.1.', 6),\n",
              " ('13.07.', 5),\n",
              " ('72.', 4)]"
            ]
          },
          "metadata": {},
          "execution_count": 39
        }
      ]
    },
    {
      "cell_type": "markdown",
      "source": [
        "Все ок. Далее, чтобы эти номера не были началом предложений, добавим свое правило. Теперь сами цифры и текст после них - отдельные предложения"
      ],
      "metadata": {
        "id": "3CF5jvXCTGr5"
      }
    },
    {
      "cell_type": "code",
      "source": [
        "@Language.component(\"set_num_boundary\")\n",
        "def set_num_boundary(doc):\n",
        "    for token in doc[:-1]:\n",
        "        if re.fullmatch(\"^\\d{1,2}\\.(\\d{1,2}\\.){0,2}\", token.text) is not None:\n",
        "            if doc[token.i+1].text[0].isupper():\n",
        "              doc[token.i].is_sent_start = True\n",
        "              doc[token.i+1].is_sent_start = True\n",
        "    return doc\n",
        "\n",
        "nlp.add_pipe(\"set_num_boundary\", before = \"parser\")"
      ],
      "metadata": {
        "colab": {
          "base_uri": "https://localhost:8080/"
        },
        "id": "TgzxDbxvBJRD",
        "outputId": "511d47fb-6a58-45da-b28e-61bcce5dc61f"
      },
      "execution_count": null,
      "outputs": [
        {
          "output_type": "execute_result",
          "data": {
            "text/plain": [
              "<function __main__.set_num_boundary(doc)>"
            ]
          },
          "metadata": {},
          "execution_count": 40
        }
      ]
    },
    {
      "cell_type": "markdown",
      "source": [
        "В тексте встречаются цифры сверху текста, и в сыром виде они обозначаются в виде [footnoteRef:..] и идут без пробела сразу после слов, из-за чего становятся одним общим токеном. Добавим новый суффикс, чтобы обрабатывать корректно эту ситуацию"
      ],
      "metadata": {
        "id": "9F36_seITRT7"
      }
    },
    {
      "cell_type": "code",
      "source": [
        "suffixes = nlp.Defaults.suffixes + [r'''\\[footnoteRef:\\d*$''',] \n",
        "suffix_regex = spacy.util.compile_suffix_regex(suffixes)\n",
        "nlp.tokenizer.suffix_search = suffix_regex.search"
      ],
      "metadata": {
        "id": "2ZfBSrTMMzP5"
      },
      "execution_count": null,
      "outputs": []
    },
    {
      "cell_type": "markdown",
      "source": [
        "Избавляемся от этого элемента в предложениях"
      ],
      "metadata": {
        "id": "PpK6Oo1GTgUi"
      }
    },
    {
      "cell_type": "code",
      "source": [
        "@Language.component(\"set_footnoteref_boundary\")\n",
        "def set_footnoteref_boundary(doc):\n",
        "    for token in doc[:-1]:\n",
        "        if token.text.startswith(\"[footnoteRef:\"):\n",
        "            doc[token.i].is_sent_start = True\n",
        "    return doc\n",
        "\n",
        "nlp.add_pipe(\"set_footnoteref_boundary\", before = \"parser\")"
      ],
      "metadata": {
        "colab": {
          "base_uri": "https://localhost:8080/"
        },
        "id": "aeGmEHIsuVey",
        "outputId": "f9821e23-4694-46f9-e6ff-3fbeacde1637"
      },
      "execution_count": null,
      "outputs": [
        {
          "output_type": "execute_result",
          "data": {
            "text/plain": [
              "<function __main__.set_footnoteref_boundary(doc)>"
            ]
          },
          "metadata": {},
          "execution_count": 42
        }
      ]
    },
    {
      "cell_type": "markdown",
      "source": [
        "Модель spacy для русского языка не справляется с ситуациями, когда сокращение является и концом предложения, так что исправим ситуацию для конкретного сокращения \"руб.\""
      ],
      "metadata": {
        "id": "ir6YF6QVTu2a"
      }
    },
    {
      "cell_type": "code",
      "source": [
        "\n",
        "@Language.component(\"set_rub_boundary\")\n",
        "def set_rub_boundaries(doc):\n",
        "    for token in doc[:-1]:\n",
        "        if token.text.endswith(\"руб.\") and doc[token.i + 1].text[0].isupper():\n",
        "            doc[token.i + 1].is_sent_start = True\n",
        "    return doc\n",
        "\n",
        "nlp.add_pipe(\"set_rub_boundary\", before = \"parser\")"
      ],
      "metadata": {
        "colab": {
          "base_uri": "https://localhost:8080/"
        },
        "id": "zlpvI2XsZek7",
        "outputId": "4959bb67-3ec3-453c-97f8-8d8ad56b5636"
      },
      "execution_count": null,
      "outputs": [
        {
          "output_type": "execute_result",
          "data": {
            "text/plain": [
              "<function __main__.set_rub_boundaries(doc)>"
            ]
          },
          "metadata": {},
          "execution_count": 43
        }
      ]
    },
    {
      "cell_type": "markdown",
      "source": [
        "Дальше идет обработка заранее отобранных заголовках. Суть кода в том, чтобы данные заголовки вынести в отдельное предложение, путем нахожденияих в тексте и установки флага нового предложения на первом токене самого заголовка, и первом токене текста после заголовка.\n",
        "Заголовки уже прописаны для обеих меток"
      ],
      "metadata": {
        "id": "5bBM6lflT7of"
      }
    },
    {
      "cell_type": "code",
      "source": [
        "titles_patterns = [ # Заголовки отобраны заранее\n",
        "    [{\"ORTH\" : \"Порядок\"}, {\"ORTH\" : \"обеспечения\"}, {\"ORTH\" : \"исполнения\"}, {\"ORTH\" : \"контракта\"}, {\"ORTH\" : \",\"}, {\"ORTH\" : \"требования\"}, {\"ORTH\" : \"к\"}, {\"ORTH\" : \"обеспечению\"},{\"ORTH\" : {\"REGEX\" : \"[А-Я].*\"}}],\n",
        "    [{\"ORTH\" : \"Размер\"}, {\"ORTH\" : \"обеспечения\"}, {\"ORTH\" : \"гарантийных\"}, {\"ORTH\" : \"обязательств\"},{\"ORTH\" : {\"REGEX\" : \"^[А-Я]\\w*$\"}}],\n",
        "    [{\"ORTH\" : \"Сумма\"}, {\"ORTH\" : \"обеспечения\"}, {\"ORTH\" : \"исполнения\"}, {\"ORTH\" : \"контракта\"},{\"ORTH\" : {\"REGEX\" : \"[А-Я].*\"}}],\n",
        "    [{\"ORTH\" : \"Обеспечение\"}, {\"ORTH\" : \"заявки\"},{\"ORTH\" : {\"REGEX\" : \"[А-Я].*\"}}],\n",
        "    [{\"ORTH\" : \"Вид\"}, {\"ORTH\" : \"требования\"},{\"ORTH\" : {\"REGEX\" : \"[А-Я].*\"}}],\n",
        "    [{\"ORTH\" : \"Дополнительная\"}, {\"ORTH\" : \"информация\"},{\"ORTH\" : {\"REGEX\" : \"[А-Я].*\"}}],\n",
        "    [{\"ORTH\" : \"Обеспечение\"}, {\"ORTH\" : \"исполнения\"}, {\"ORTH\" : \"контракта\"},{\"ORTH\" : {\"REGEX\" : \"[А-Я].*\"}}],\n",
        "    [{\"ORTH\" : \"Перечень\"}, {\"ORTH\" : \"прикрепленных\"}, {\"ORTH\" : \"документов\"},{\"ORTH\" : {\"REGEX\" : \"[А-Я].*\"}}],\n",
        "    [{\"ORTH\" : \"Срок\"}, {\"ORTH\" : \"обеспечения\"}, {\"ORTH\" : \"исполнения\"}, {\"ORTH\" : \"Контракта\"},{\"ORTH\" : {\"REGEX\" : \"[А-Я].*\"}}],\n",
        "    [{\"ORTH\" : \"Требуется\"}, {\"ORTH\" : \"обеспечение\"}, {\"ORTH\" : \"исполнения\"}, {\"ORTH\" : \"контракта\"},{\"ORTH\" : {\"REGEX\" : \"[А-Я].*\"}}],\n",
        "    [{\"ORTH\" : \"Порядок\"}, {\"ORTH\" : \"предоставления\"}, {\"ORTH\" : \"обеспечения\"}, {\"ORTH\" : \"исполнения\"}, {\"ORTH\" : \"контракта\"},{\"ORTH\" : {\"REGEX\" : \"[А-Я].*\"}}],\n",
        "    [{\"ORTH\" : \"Порядок\"}, {\"ORTH\" : \"предоставления\"}, {\"ORTH\" : \"обеспечения\"}, {\"ORTH\" : \"гарантийных\"}, {\"ORTH\" : \"обязательств\"}, {\"ORTH\" : \",\"}, {\"ORTH\" : \"требования\"}, {\"ORTH\" : \"к\"}, {\"ORTH\" : \"обеспечению\"},{\"ORTH\" : {\"REGEX\" : \"[А-Я].*\"}}],\n",
        "    [{\"ORTH\" : \"Требуется\"}, {\"ORTH\" : \"обеспечение\"}, {\"ORTH\" : \"гарантийных\"}, {\"ORTH\" : \"обязательств\"},{\"ORTH\" : {\"REGEX\" : \"[А-Я].*\"}}],\n",
        "    [{\"ORTH\" : \"Размер\"}, {\"ORTH\" : \"обеспечения\"}, {\"ORTH\" : \"гарантийных\"}, {\"ORTH\" : \"обязательств\"}, {\"ORTH\" : \"и\"}, {\"ORTH\" : \"порядок\"}, {\"ORTH\" : \"предоставления\"}, {\"ORTH\" : \"обеспечения\"}, {\"ORTH\" : \"гарантийных\"}, {\"ORTH\" : \"обязательств\"}, {\"ORTH\" : \",\"}, {\"ORTH\" : \"требования\"}, {\"ORTH\" : \"к\"}, {\"ORTH\" : \"такому\"}, {\"ORTH\" : \"обеспечению\"},{\"ORTH\" : {\"REGEX\" : \"[А-Я].*\"}}],\n",
        "    [{\"ORTH\" : \"Обеспечение\"}, {\"ORTH\" : \"гарантийных\"}, {\"ORTH\" : \"обязательств\"},{\"ORTH\" : {\"REGEX\" : \"[А-Я].*\"}}],\n",
        "  ]\n",
        "titles = [\n",
        "    \"Порядок обеспечения исполнения контракта, требования к обеспечению\",\n",
        "    \"Размер обеспечения гарантийных обязательств\",\n",
        "    \"Сумма обеспечения исполнения контракта\",\n",
        "    \"Обеспечение заявки\",\n",
        "    \"Вид требования\",\n",
        "    \"Дополнительная информация\",\n",
        "    \"Обеспечение исполнения контракта\"\n",
        "    \"Перечень прикрепленных документов\",\n",
        "    \"Срок обеспечения исполнения контракта\",\n",
        "    \"Требуется обеспечение исполнения контракта\",\n",
        "    \"Порядок предоставления обеспечения исполнения контракта\",\n",
        "    \"Порядок предоставления обеспечения гарантийных обязательств, требования к обеспечению\",\n",
        "    \"Требуется обеспечение гарантийных обязательств\",\n",
        "    \"Размер обеспечения гарантийных обязательств и порядок предоставления обеспечения гарантийных обязательств, требования к такому обеспечению\",\n",
        "    \"Обеспечение гарантийных обязательств\",\n",
        "]"
      ],
      "metadata": {
        "id": "Dc5iawpZpKWC"
      },
      "execution_count": null,
      "outputs": []
    },
    {
      "cell_type": "code",
      "source": [
        "@Language.component(\"set_titles_boundary\")\n",
        "def set_title_boundaries(doc : spacy.tokens.Doc):\n",
        "    matcher = spacy.matcher.Matcher(nlp.vocab)\n",
        "    matcher.add(\"Titles\", titles_patterns)\n",
        "    matches = matcher(doc)\n",
        "    for match_id, start_idx, end_idx in matches:  \n",
        "      start = False # индикатор нашли ли мы начало заголовка\n",
        "      end = False # индикатор нашли ли мы начало предложения после заголовка\n",
        "      for token in doc:\n",
        "        if token.i == start_idx:\n",
        "          doc[token.i].is_sent_start = True\n",
        "          start = True\n",
        "        elif token.i+1 == end_idx:\n",
        "          doc[token.i].is_sent_start = True\n",
        "          end = True\n",
        "\n",
        "        if start and end:\n",
        "          break\n",
        "\n",
        "    return doc\n",
        "\n",
        "nlp.add_pipe(\"set_titles_boundary\", before = \"parser\")"
      ],
      "metadata": {
        "id": "bmNBhplfa3M4",
        "colab": {
          "base_uri": "https://localhost:8080/"
        },
        "outputId": "72cfddb8-ac0d-4868-9e0c-752b7e3b0a5b"
      },
      "execution_count": null,
      "outputs": [
        {
          "output_type": "execute_result",
          "data": {
            "text/plain": [
              "<function __main__.set_title_boundaries(doc: spacy.tokens.doc.Doc)>"
            ]
          },
          "metadata": {},
          "execution_count": 45
        }
      ]
    },
    {
      "cell_type": "markdown",
      "source": [
        "Также дополнительно сделаем еще один компонент, который будет выделять в новое предложение все, что начинается с \"Размер\", \"Обеспечение\", \"Сумма\", \"Срок\", \"Порядок\", \"Требование\", \"Положение\", \"Если\"\n",
        "Нельзя просто сделать так, чтобы любое слово с большой буквы означало начало предложения, ибо много слов которые начинаются с большой буквы но началами предложения не являются. Так что были отобраны слова, которые часто встречаются вокруг нужных нам фрагментов и которые не начинаются с большой буквы по иным причинам кроме начала предложения."
      ],
      "metadata": {
        "id": "QChZ2QS_UK9c"
      }
    },
    {
      "cell_type": "code",
      "source": [
        "@Language.component(\"set_razmer_boundary\")\n",
        "def set_razmer_boundaries(doc : spacy.tokens.Doc):\n",
        "      for token in doc:\n",
        "        if token.text[0].isupper() and analyzer.parse(token.text)[0].normal_form in [\"размер\",\"обеспечение\",\"если\", \"сумма\", \"порядок\", \"срок\",\"требование\", \"положение\"]:\n",
        "          doc[token.i].is_sent_start = True\n",
        "\n",
        "      return doc\n",
        "\n",
        "nlp.add_pipe(\"set_razmer_boundary\", before = \"parser\")"
      ],
      "metadata": {
        "colab": {
          "base_uri": "https://localhost:8080/"
        },
        "id": "ts5cKwkOLYb2",
        "outputId": "b3e1507b-66df-4445-a5cb-68229eb00b57"
      },
      "execution_count": null,
      "outputs": [
        {
          "output_type": "execute_result",
          "data": {
            "text/plain": [
              "<function __main__.set_razmer_boundaries(doc: spacy.tokens.doc.Doc)>"
            ]
          },
          "metadata": {},
          "execution_count": 46
        }
      ]
    },
    {
      "cell_type": "markdown",
      "source": [
        "#3. Теперь перейдем к уже реализации самого поиска фрагментов. \n",
        "[Назад вверх](#scrollTo=9XBkY-v3_bc-)\n",
        "\n",
        "Главная идея: вытаскивать текст я собираюсь по предложениям, так как каждое дерево зависимостей обычно обознает одно предложение, и так удобно работать, учитывая, что spacy предоставляет инструменты для выделения предложений. \n",
        "Сначала модель будет пытаться найти в тексте предопределенный шаблон (один из). Затем, если какой-нибудь шаблон не найдется, она попробует найти текст, соответствующим одному из следующих \"регулярных\" выражений:\n",
        "- ОБЩЕЕ УСЛОВИЕ, которое должно выполняться всегда: предложение содержит в любой форме фразу \"обеспечение гарантийных обязательств\"\n",
        "- Предложение содержит формы слова \"установлен\" к слову \"обеспечение\" или словам над ним в дереве\n",
        "- Предложение содержит в себе числа в виде слов или цифр и последующий знак процента или упомянание рубля\n",
        "\n",
        "*Пометка*: В список предопределенных шаблонов были выбраны только те, которые попадаются довольно часто в трен. наборе и которые действительно являются шаблонами, а не редкими примерами."
      ],
      "metadata": {
        "id": "t89mNHxyYm9B"
      }
    },
    {
      "cell_type": "code",
      "source": [
        "#@title Шаблоны\n",
        "phrases_garant = [\n",
        "    \"Размер обеспечения гарантийных обязательств [.,\\d]* Российский рубль[.]?\",\n",
        "    \"обеспечение исполнения гарантийных обязательств в размере не менее [,.\\d]* %\",\n",
        "    \"Размер обеспечения гарантийных обязательств составляет [\\d]*% начальной (максимальной) цены контракта.\",\n",
        "    \"Обеспечение гарантийных обязательств устанавливается в размере [\\d]*% от начальной (максимальной) цены контракта.\",\n",
        "    \"Размер обеспечения гарантийных обязательств составляет [_]*рублей, что составляет [\\d]*% от начальной (максимальной) цены Контракта.\",\n",
        "]"
      ],
      "metadata": {
        "id": "-wM_O8HRhgrz"
      },
      "execution_count": null,
      "outputs": []
    },
    {
      "cell_type": "code",
      "source": [
        "#@title Паттерны\n",
        "first_pattern = [ # обеспечение главное, есть слово установлен\n",
        "  {\n",
        "      \"RIGHT_ID\": \"obespechenie_word\", \n",
        "      \"RIGHT_ATTRS\": {\"LEMMA\": \"обеспечение\"}\n",
        "  },\n",
        "  {\n",
        "      \"LEFT_ID\": \"obespechenie_word\",\n",
        "      \"REL_OP\": \">>\", # гдето в дереве у \"обеспечение\". сделано для опознавания фраз типа \"обеспечение исполнения гарантийных обязательств\"\n",
        "      \"RIGHT_ID\": \"obyazatelstvo_word\",\n",
        "      \"RIGHT_ATTRS\": {\"LEMMA\": \"обязательство\"} # \n",
        "  },\n",
        "  {\n",
        "      \"LEFT_ID\": \"obyazatelstvo_word\",\n",
        "      \"REL_OP\": \">\", \n",
        "      \"RIGHT_ID\": \"garant_word\",\n",
        "      \"RIGHT_ATTRS\": {\"LEMMA\": \"гарантийный\",\n",
        "                      \"DEP\": \"amod\"} # прилагательное\n",
        "  },\n",
        "  {\n",
        "      \"LEFT_ID\": \"obespechenie_word\",\n",
        "      \"REL_OP\": \">\", # привязано к \"обеспечение\"\n",
        "      \"RIGHT_ID\": \"ustanovlen_word\",\n",
        "      \"RIGHT_ATTRS\": {\"LEMMA\": \"установить\"}\n",
        "  }\n",
        "]\n",
        "second_pattern = [ # обеспечение главное, имеются цифры связанные с деньгами или процентами\n",
        "  {\n",
        "      \"RIGHT_ID\": \"obespechenie_word\", \n",
        "      \"RIGHT_ATTRS\": {\"LEMMA\": \"обеспечение\"} \n",
        "  },\n",
        "  {\n",
        "      \"LEFT_ID\": \"obespechenie_word\",\n",
        "      \"REL_OP\": \">>\", # гдето в дереве у \"обеспечение\". сделано для опознавания фраз типа \"обеспечение исполнения гарантийных обязательств\"\n",
        "      \"RIGHT_ID\": \"obyazatelstvo_word\",\n",
        "      \"RIGHT_ATTRS\": {\"LEMMA\": \"обязательство\"} \n",
        "  },\n",
        "  {\n",
        "      \"LEFT_ID\": \"obyazatelstvo_word\",\n",
        "      \"REL_OP\": \">\", \n",
        "      \"RIGHT_ID\": \"garant_word\",\n",
        "      \"RIGHT_ATTRS\": {\"LEMMA\": \"гарантийный\",\n",
        "                      \"DEP\": \"amod\"} # прилагательное\n",
        "  },\n",
        "  { # Число где-то в дереве\n",
        "      \"LEFT_ID\": \"obespechenie_word\", \n",
        "      \"REL_OP\": \".*\", \n",
        "      \"RIGHT_ID\": \"number\",\n",
        "      \"RIGHT_ATTRS\": {\"POS\": \"NUM\"}\n",
        "  }, # после которого идет процент или рубль\n",
        "  {   \"LEFT_ID\": \"number\",\n",
        "      \"REL_OP\": \".\", # следующий токен \n",
        "      \"RIGHT_ID\": \"to_number\",\n",
        "      \"RIGHT_ATTRS\": {\"LEMMA\" : {\"IN\" : [\"рубль\", \"%\", \"руб.\", \"руб\", \"процент\"]}}\n",
        "  }\n",
        "]\n",
        "third_pattern = [ # обеспечение зависимое, есть форма \"установить\"\n",
        "  {\n",
        "      \"RIGHT_ID\": \"main\", # root\n",
        "      \"RIGHT_ATTRS\": {} \n",
        "  },\n",
        "  {\n",
        "      \"LEFT_ID\": \"main\",\n",
        "      \"REL_OP\": \">>\", # ближайший ребенок(зависимое слово)\n",
        "      \"RIGHT_ID\": \"obespechenie_word\", # Зависимое слово\n",
        "      \"RIGHT_ATTRS\": {\"LEMMA\": \"обеспечение\"}\n",
        "  },\n",
        "  {\n",
        "      \"LEFT_ID\": \"obespechenie_word\",\n",
        "      \"REL_OP\": \">>\", # гдето в дереве у \"обеспечение\". сделано для опознавания фраз типа \"обеспечение исполнения гарантийных обязательств\"\n",
        "      \"RIGHT_ID\": \"obyazatelstvo_word\",\n",
        "      \"RIGHT_ATTRS\": {\"LEMMA\": \"обязательство\"}\n",
        "  },\n",
        "  {\n",
        "      \"LEFT_ID\": \"obyazatelstvo_word\",\n",
        "      \"REL_OP\": \">\", \n",
        "      \"RIGHT_ID\": \"garant_word\",\n",
        "      \"RIGHT_ATTRS\": {\"LEMMA\": \"гарантийный\",\n",
        "                      \"DEP\": \"amod\"} # прилагательное\n",
        "  },\n",
        "  {\n",
        "      \"LEFT_ID\": \"main\",\n",
        "      \"REL_OP\": \">\", \n",
        "      \"RIGHT_ID\": \"ustanovlen_word\",\n",
        "      \"RIGHT_ATTRS\": {\"LEMMA\": \"установить\"}\n",
        "  }\n",
        "]\n",
        "fourth_pattern = [ # обеспечение зависимое, есть цифра\n",
        "  {\n",
        "      \"RIGHT_ID\": \"main\", # root\n",
        "      \"RIGHT_ATTRS\": {} \n",
        "  },\n",
        "  {\n",
        "      \"LEFT_ID\": \"main\",\n",
        "      \"REL_OP\": \">>\", \n",
        "      \"RIGHT_ID\": \"obespechenie_word\", \n",
        "      \"RIGHT_ATTRS\": {\"LEMMA\": \"обеспечение\"}\n",
        "  },\n",
        "  {\n",
        "      \"LEFT_ID\": \"obespechenie_word\",\n",
        "      \"REL_OP\": \">>\",  # где-то в дереве у \"обеспечение\". сделано для опознавания фраз типа \"обеспечение исполнения гарантийных обязательств\"\n",
        "      \"RIGHT_ID\": \"obyazatelstvo_word\",\n",
        "      \"RIGHT_ATTRS\": {\"LEMMA\": \"обязательство\"} \n",
        "  },\n",
        "  {\n",
        "      \"LEFT_ID\": \"obyazatelstvo_word\",\n",
        "      \"REL_OP\": \">\",\n",
        "      \"RIGHT_ID\": \"garant_word\",\n",
        "      \"RIGHT_ATTRS\": {\"LEMMA\": \"гарантийный\",\n",
        "                      \"DEP\": \"amod\"} # прилагательное\n",
        "  },\n",
        "  { # Число где-то в дереве\n",
        "      \"LEFT_ID\": \"main\", \n",
        "      \"REL_OP\": \".*\", \n",
        "      \"RIGHT_ID\": \"number\",\n",
        "      \"RIGHT_ATTRS\": {\"POS\": \"NUM\"}\n",
        "  }, # после которого идет процент или рубль\n",
        "  {   \"LEFT_ID\": \"number\",\n",
        "      \"REL_OP\": \".\", # следующий токен \n",
        "      \"RIGHT_ID\": \"to_number\",\n",
        "      \"RIGHT_ATTRS\": {\"LEMMA\" : {\"IN\" : [\"рубль\", \"%\", \"руб.\", \"руб\"]}}\n",
        "  }\n",
        "]\n",
        "fifth_pattern = [ # обеспечение зависимое, есть цифра и транскрипция\n",
        "  {\n",
        "      \"RIGHT_ID\": \"main\", # root\n",
        "      \"RIGHT_ATTRS\": {} \n",
        "  },\n",
        "  {\n",
        "      \"LEFT_ID\": \"main\",\n",
        "      \"REL_OP\": \">>\", \n",
        "      \"RIGHT_ID\": \"obespechenie_word\", \n",
        "      \"RIGHT_ATTRS\": {\"LEMMA\": \"обеспечение\"}\n",
        "  },\n",
        "  {\n",
        "      \"LEFT_ID\": \"obespechenie_word\",\n",
        "      \"REL_OP\": \">>\",  # где-то в дереве у \"обеспечение\". сделано для опознавания фраз типа \"обеспечение исполнения гарантийных обязательств\"\n",
        "      \"RIGHT_ID\": \"obyazatelstvo_word\",\n",
        "      \"RIGHT_ATTRS\": {\"LEMMA\": \"обязательство\"} \n",
        "  },\n",
        "  {\n",
        "      \"LEFT_ID\": \"obyazatelstvo_word\",\n",
        "      \"REL_OP\": \">\",\n",
        "      \"RIGHT_ID\": \"garant_word\",\n",
        "      \"RIGHT_ATTRS\": {\"LEMMA\": \"гарантийный\",\n",
        "                      \"DEP\": \"amod\"} # прилагательное\n",
        "  },\n",
        "  { # Число где-то в дереве\n",
        "      \"LEFT_ID\": \"main\", \n",
        "      \"REL_OP\": \".*\", \n",
        "      \"RIGHT_ID\": \"number\",\n",
        "      \"RIGHT_ATTRS\": {\"POS\": \"NUM\"}\n",
        "  }, # после которого идет процент или рубль\n",
        "  {\n",
        "      \"LEFT_ID\": \"number\", \n",
        "      \"REL_OP\": \".\", \n",
        "      \"RIGHT_ID\": \"skobka1\",\n",
        "      \"RIGHT_ATTRS\": {\"LEMMA\": \"(\"}\n",
        "  },\n",
        "  {\n",
        "      \"LEFT_ID\": \"skobka1\", \n",
        "      \"REL_OP\": \".\", \n",
        "      \"RIGHT_ID\": \"something\",\n",
        "      \"RIGHT_ATTRS\": {\"POS\": {\"IN\" : [\"NUM\", \"PROPN\"]}}\n",
        "  },\n",
        "  {\n",
        "      \"LEFT_ID\": \"something\", \n",
        "      \"REL_OP\": \".\", \n",
        "      \"RIGHT_ID\": \"skobka2\",\n",
        "      \"RIGHT_ATTRS\": {\"LEMMA\": \")\"}\n",
        "  },\n",
        "  {\n",
        "      \"LEFT_ID\": \"skobka2\",\n",
        "      \"REL_OP\": \".\", \n",
        "      \"RIGHT_ID\": \"to_number\",\n",
        "      \"RIGHT_ATTRS\": {\"LEMMA\" : {\"IN\" : [\"рубль\", \"%\", \"руб.\", \"руб\", \"процент\"]}}\n",
        "  }\n",
        "]\n",
        "sixth_pattern = [ # обеспечение главное, имеются цифры связанные с деньгами или процентами и транскрипция\n",
        "  {\n",
        "      \"RIGHT_ID\": \"obespechenie_word\", \n",
        "      \"RIGHT_ATTRS\": {\"LEMMA\": \"обеспечение\"} \n",
        "  },\n",
        "  {\n",
        "      \"LEFT_ID\": \"obespechenie_word\",\n",
        "      \"REL_OP\": \">>\", # гдето в дереве у \"обеспечение\". сделано для опознавания фраз типа \"обеспечение исполнения гарантийных обязательств\"\n",
        "      \"RIGHT_ID\": \"obyazatelstvo_word\",\n",
        "      \"RIGHT_ATTRS\": {\"LEMMA\": \"обязательство\"}\n",
        "  },\n",
        "  {\n",
        "      \"LEFT_ID\": \"obyazatelstvo_word\",\n",
        "      \"REL_OP\": \">\", \n",
        "      \"RIGHT_ID\": \"garant_word\",\n",
        "      \"RIGHT_ATTRS\": {\"LEMMA\": \"гарантийный\",\n",
        "                      \"DEP\": \"amod\"} # прилагательное\n",
        "  },\n",
        "  { # Число где-то в дереве\n",
        "      \"LEFT_ID\": \"obespechenie_word\", \n",
        "      \"REL_OP\": \".*\", \n",
        "      \"RIGHT_ID\": \"number\",\n",
        "      \"RIGHT_ATTRS\": {\"POS\": \"NUM\"}\n",
        "  }, # после которого идет процент или рубль\n",
        "  {\n",
        "      \"LEFT_ID\": \"number\", \n",
        "      \"REL_OP\": \".\", \n",
        "      \"RIGHT_ID\": \"skobka1\",\n",
        "      \"RIGHT_ATTRS\": {\"LEMMA\": \"(\"}\n",
        "  },\n",
        "  {\n",
        "      \"LEFT_ID\": \"skobka1\", \n",
        "      \"REL_OP\": \".\", \n",
        "      \"RIGHT_ID\": \"something\",\n",
        "      \"RIGHT_ATTRS\": {\"POS\": {\"IN\" : [\"NUM\", \"PROPN\"]}}\n",
        "  },\n",
        "  {\n",
        "      \"LEFT_ID\": \"something\", \n",
        "      \"REL_OP\": \".\", \n",
        "      \"RIGHT_ID\": \"skobka2\",\n",
        "      \"RIGHT_ATTRS\": {\"LEMMA\": \")\"}\n",
        "  },\n",
        "  {\n",
        "      \"LEFT_ID\": \"skobka2\",\n",
        "      \"REL_OP\": \".\", \n",
        "      \"RIGHT_ID\": \"to_number\",\n",
        "      \"RIGHT_ATTRS\": {\"LEMMA\" : {\"IN\" : [\"рубль\", \"%\", \"руб.\", \"руб\", \"процент\"]}}\n",
        "  }\n",
        "]"
      ],
      "metadata": {
        "id": "9agKOw2zwfDG"
      },
      "execution_count": null,
      "outputs": []
    },
    {
      "cell_type": "code",
      "source": [
        "#@title Проверка работы модели (только паттерны) на проблемном тексте\n",
        "isFragment = False # используется для того, чтобы извлекать лишь один продолжительный фрагмент, а не предложения из разных частей текста\n",
        "text = \"Федеральное государственное бюджетное научное учреждение «Федеральный исследовательский центр Всероссийский институт генетических ресурсов растений имени Н.И. Вавилова» ДОКУМЕНТАЦИЯ ОБ АУКЦИОНЕ В ЭЛЕКТРОННОЙ ФОРМЕ на поставку жатки для уборки кукурузы для нужд вор с таким победителем заключается по цене, увеличенной на 15 процентов от предложенной им цены договора. При исполнении договора, заключенного с участником закупки, в отношении которого Правительством Российской Федерации предоставлен приоритет товаров российского происхождения, работ, услуг, выполняемых, оказываемых российскими лицами, по отношению к товарам, происходящим из иностранного государства, работам, услугам, выполняемым, оказываемым иностранными лицами, не допускается замена страны происхождения товаров, за исключением случая, когда в результате такой замены вместо иностранных товаров поставляются российские товары, при этом качество, технические и функциональные характеристики (потребительские свойства) таких товаров не должны уступать качеству и соответствующим техническим и функциональным характеристикам товаров, указанных в договоре. 32. Критерии и порядок оценки и сопоставления заявок на участие в закупке Не установлены 33. Размер обеспечения гарантийных обязательств Установлен Размер обеспечения гарантийных обязательств: 5 % от начальной (максимальной) цены договора, что составляет 206 650 (Двести шесть тысяч шестьсот пятьдесят) рублей 00 копеек Порядок и срок предоставления такого обеспечения: установлен в Разделе 7. «Проект Договора». Реквизиты счета для внесения обеспечения исполнения договора: Получатель: УФК по г. Санкт-Петербургу (ВИР л/сч 20726У32850) Юридический адрес: 190000, г. Санкт-Петербург, ул. Большая Морская, д. 42, 44, ИНН 7812029408 КПП 783801001 ОКТМО 40303000 р/сч 03214643000000017200 в Северо-Западном ГУ Банка России г. Санкт-Петербург ЕКС 40102810945370000005 БИК ТОФК 014030106 ОКПО 00495651 ОКВЭД 72.19 ОГРН 1027810308206 КБК 00000000000000000510 В платежном поручении в поле «Назначение платежа» указывается (510ВР) «Обеспечение гарантийных обязательств, номер извещения о проведении аукциона в электронной форме» 34. Ограничение участия в определении поставщика (подрядчика, исполнителя) (СМП, СОНО) Не установлено 35. Условия, запреты и ограничения допуска товаров, происходящих из иностранного государства или группы иностранных государств, работ, услу Хлесткина� � � � «08» сентября 2022 г.� � PAGE\"\n",
        "doc = nlp(text)\n",
        "matcher = spacy.matcher.DependencyMatcher(nlp.vocab)\n",
        "matcher.add(\"patterns\", [first_pattern, second_pattern, third_pattern, fourth_pattern])\n",
        "\n",
        "for sentence in doc.sents:\n",
        "  if sentence.text in titles:\n",
        "    continue\n",
        "  doc_sent = sentence.as_doc()\n",
        "  matches = matcher(doc_sent)\n",
        "  if isFragment:\n",
        "    if len(matches) > 0:\n",
        "      print(sentence)\n",
        "    else:\n",
        "      break;\n",
        "  else:\n",
        "    if len(matches) > 0:\n",
        "      print(sentence)\n",
        "      isFragment = True\n"
      ],
      "metadata": {
        "id": "CwFqi3iEx52p",
        "colab": {
          "base_uri": "https://localhost:8080/"
        },
        "outputId": "e26cde80-1a4b-43da-889c-cd732515fd3a"
      },
      "execution_count": null,
      "outputs": [
        {
          "output_type": "stream",
          "name": "stdout",
          "text": [
            "Размер обеспечения гарантийных обязательств: 5 % от начальной (максимальной) цены договора, что составляет 206 650 (Двести шесть тысяч шестьсот пятьдесят) рублей 00 копеек\n"
          ]
        }
      ]
    },
    {
      "cell_type": "markdown",
      "source": [
        "Неплохо. Сделаем функцию для предсказания этой метки"
      ],
      "metadata": {
        "id": "pEEhcnDh8d2t"
      }
    },
    {
      "cell_type": "code",
      "source": [
        "matcher_garant = spacy.matcher.DependencyMatcher(nlp.vocab)\n",
        "matcher_garant.add(\"patterns\", [first_pattern, second_pattern, third_pattern, fourth_pattern, fifth_pattern, sixth_pattern])"
      ],
      "metadata": {
        "id": "uF6CBgN38j7U"
      },
      "execution_count": null,
      "outputs": []
    },
    {
      "cell_type": "code",
      "source": [
        "def predictGarant (row): # только для соответствующей метки\n",
        "  text = row[\"text\"]\n",
        "  predicted_part = {}\n",
        "  predicted_part[\"text\"] = ['']\n",
        "  predicted_part[\"answer_start\"] = [0]\n",
        "  predicted_part[\"answer_end\"] = [0]\n",
        "\n",
        "\n",
        "\n",
        "  for phrase in phrases_garant:\n",
        "    result = re.search(phrase, text)\n",
        "    if result is not None:\n",
        "      predicted_part[\"text\"] = [result.group(0)]\n",
        "      predicted_part[\"answer_start\"] = [result.start()]\n",
        "      predicted_part[\"answer_end\"] = [result.end()]\n",
        "      row[\"extracted_part\"] = predicted_part\n",
        "      return row\n",
        "\n",
        "  isFragment = False\n",
        "  answer = []\n",
        "  doc = nlp(text)\n",
        "  for sentence in doc.sents:\n",
        "    if len(sentence) > 80: # если предложение очень большое, то лучше на него время не тратить\n",
        "      continue;\n",
        "    if sentence.text in titles:\n",
        "      continue\n",
        "    doc_sent = sentence.as_doc()\n",
        "    matches = matcher_garant(doc_sent)\n",
        "    if isFragment:\n",
        "      if len(matches) > 0:\n",
        "        answer.append(sentence.text)\n",
        "        predicted_part[\"answer_end\"] = [sentence.end_char]\n",
        "      else:\n",
        "        break;\n",
        "    else: # первое подходящее совпадение\n",
        "      if len(matches) > 0:\n",
        "        answer.append(sentence.text)\n",
        "        predicted_part[\"answer_start\"] = [sentence.start_char]\n",
        "        predicted_part[\"answer_end\"] = [sentence.end_char]\n",
        "        isFragment = True\n",
        "  predicted_part[\"text\"] = \" \".join(answer)\n",
        "  row[\"extracted_part\"] = predicted_part\n",
        "  return row"
      ],
      "metadata": {
        "id": "Tln4JKQk-yql"
      },
      "execution_count": null,
      "outputs": []
    },
    {
      "cell_type": "markdown",
      "source": [
        "Далее идет код для просмотра несовпадений предсказания и настоящего фрагмента"
      ],
      "metadata": {
        "id": "sHA8DBMwVM3X"
      }
    },
    {
      "cell_type": "code",
      "source": [
        "#train_df_garant = train_df[train_df[\"label\"] == \"обеспечение гарантийных обязательств\"].drop([\"answer_start\", \"answer_end\"],axis=1)\n",
        "#train_df_garant = train_df_garant.apply(predictGarant, axis=1)"
      ],
      "metadata": {
        "id": "21TdPq-OA54z"
      },
      "execution_count": null,
      "outputs": []
    },
    {
      "cell_type": "code",
      "source": [
        "# counter = 0\n",
        "# for index,row in train_df_garant.iterrows():\n",
        "#   if row[\"extracted_text\"] != row[\"predicted_text\"]:\n",
        "#     print(\"Extracted part:\")\n",
        "#     print(row[\"extracted_text\"])\n",
        "#     print(\"Predicted:\")\n",
        "#     print(row[\"predicted_text\"])\n",
        "#     counter +=1"
      ],
      "metadata": {
        "id": "gcMd_INpCTKI"
      },
      "execution_count": null,
      "outputs": []
    },
    {
      "cell_type": "markdown",
      "source": [
        "#4. Теперь разберемся с \"обеспечением исполнения контракта\"\n",
        "[Назад вверх](#scrollTo=9XBkY-v3_bc-)\n",
        "\n",
        "В целом, смысл этой метки такой же. Выводы и подходы к решению и коду будут примерно те же, с небольшими изменениями.\n",
        "\n",
        "Шаги исследования те же, что с предыдущей меткой. Сначала глянем на частые слова"
      ],
      "metadata": {
        "id": "23f6e707JGab"
      }
    },
    {
      "cell_type": "code",
      "source": [
        "train_df_spacy_ispoln = train_df_spacy[train_df_spacy[\"label\"] == \"обеспечение исполнения контракта\"]\n",
        "counter = Counter()\n",
        "for text in train_df_spacy_ispoln.extracted_text:\n",
        "  words = [analyzer.parse(word)[0].normal_form for word in text.split(\" \") if re.fullmatch(\"[а-яА-Яa-zA-Z]*\", word) is not None]\n",
        "  counter.update(words)\n",
        "counter.most_common(20)"
      ],
      "metadata": {
        "id": "60wIfbM0JKHj",
        "colab": {
          "base_uri": "https://localhost:8080/"
        },
        "outputId": "3e942e95-9378-48ed-de6b-c91b8f3e07d6"
      },
      "execution_count": null,
      "outputs": [
        {
          "output_type": "execute_result",
          "data": {
            "text/plain": [
              "[('обеспечение', 995),\n",
              " ('исполнение', 963),\n",
              " ('размер', 888),\n",
              " ('контракт', 767),\n",
              " ('договор', 636),\n",
              " ('цена', 628),\n",
              " ('от', 592),\n",
              " ('в', 452),\n",
              " ('начальный', 448),\n",
              " ('составлять', 190),\n",
              " ('устанавливаться', 152),\n",
              " ('рубль', 132),\n",
              " ('не', 117),\n",
              " ('установить', 110),\n",
              " ('процент', 108),\n",
              " ('до', 101),\n",
              " ('настоящий', 84),\n",
              " ('российский', 82),\n",
              " ('что', 64),\n",
              " ('поставщик', 62)]"
            ]
          },
          "metadata": {},
          "execution_count": 54
        }
      ]
    },
    {
      "cell_type": "code",
      "source": [
        "train_df_spacy_ispoln.shape[0]"
      ],
      "metadata": {
        "id": "rPyI1oy2L57w",
        "colab": {
          "base_uri": "https://localhost:8080/"
        },
        "outputId": "1f60899e-4432-4bb9-aad3-ffa775b87f5b"
      },
      "execution_count": null,
      "outputs": [
        {
          "output_type": "execute_result",
          "data": {
            "text/plain": [
              "984"
            ]
          },
          "metadata": {},
          "execution_count": 55
        }
      ]
    },
    {
      "cell_type": "code",
      "source": [
        "counter = Counter()\n",
        "ob_count = 0\n",
        "gar_count = 0\n",
        "for text in train_df_spacy_ispoln.extracted_text:\n",
        "  words = [word for word in text.split(\" \") if re.fullmatch(\"[а-яА-Яa-zA-Z]*\", word) is not None]\n",
        "  gar_bool = False\n",
        "  ob_bool = False\n",
        "  for word in words:\n",
        "    if analyzer.parse(word)[0].normal_form == \"обеспечение\":\n",
        "      counter.update([word])\n",
        "      ob_bool=True\n",
        "    elif analyzer.parse(word)[0].normal_form in [\"контракт\", \"договор\"]:\n",
        "      counter.update([word])\n",
        "      gar_bool=True\n",
        "  if gar_bool:\n",
        "    gar_count+=1\n",
        "  if ob_bool:\n",
        "    ob_count+=1\n",
        "ob_count, gar_count, counter.most_common(20)"
      ],
      "metadata": {
        "id": "qttzUKX4LOo0",
        "colab": {
          "base_uri": "https://localhost:8080/"
        },
        "outputId": "340c9671-34f0-4b15-a749-9a3b55aad4ed"
      },
      "execution_count": null,
      "outputs": [
        {
          "output_type": "execute_result",
          "data": {
            "text/plain": [
              "(976,\n",
              " 950,\n",
              " [('обеспечения', 571),\n",
              "  ('контракта', 522),\n",
              "  ('договора', 490),\n",
              "  ('Контракта', 238),\n",
              "  ('обеспечение', 202),\n",
              "  ('Обеспечение', 194),\n",
              "  ('Договора', 124),\n",
              "  ('обеспечению', 22),\n",
              "  ('договор', 9),\n",
              "  ('Договору', 6),\n",
              "  ('обеспечении', 6),\n",
              "  ('контракт', 5),\n",
              "  ('договору', 5),\n",
              "  ('Контракт', 1),\n",
              "  ('Контракту', 1),\n",
              "  ('Договор', 1),\n",
              "  ('договором', 1)])"
            ]
          },
          "metadata": {},
          "execution_count": 56
        }
      ]
    },
    {
      "cell_type": "markdown",
      "source": [
        "Часто в примерах слово \"контракт\" заменено словом \"документ\", поэтому в подсчете они считались как одно слово. Видно, что в отличие от предыдущей метки, в этой метке не все фрагменты содержат что слово \"обеспечение\", что слово \"контракт/договор\". Посмотрим фразы без слова \"обеспечение\""
      ],
      "metadata": {
        "id": "3EBjlPj8NzbU"
      }
    },
    {
      "cell_type": "code",
      "source": [
        "for text in train_df_spacy_ispoln.extracted_text:\n",
        "  words = [analyzer.parse(word)[0].normal_form for word in text.split(\" \") if re.fullmatch(\"[а-яА-Яa-zA-Z]*\", word) is not None]\n",
        "  if \"обеспечение\" not in words:\n",
        "    print(text)"
      ],
      "metadata": {
        "id": "FbB_Y_E5MC_v",
        "colab": {
          "base_uri": "https://localhost:8080/"
        },
        "outputId": "f0c0f839-056e-4217-f500-5f39134bee4e"
      },
      "execution_count": null,
      "outputs": [
        {
          "output_type": "stream",
          "name": "stdout",
          "text": [
            "Размер обеспечения: 50 % от цены договора на выполнение строительно-монтажных работ\n",
            "Размер обеспечения: 5 % - 83 649,45 рублей\n",
            "Размер обеспечения: 5 % - 89 500,00 (восемьдесят девять тысяч пятьсот) рублей 00\n",
            "В размере 5% от начальной максимальной цены Договора в сумме 15801,15\n",
            "Размер обеспечения: 10% (Десять процентов) от начальной (максимальной) цены договора\n",
            "Размер обеспечения: 50 % от цены договора на выполнение строительно-монтажных работ\n",
            "Размер обеспечения: 50 % от цены договора на выполнение строительно-монтажных работ\n",
            "Размер обеспечения: 5 % от начальной (максимальной) цены договора.\n"
          ]
        }
      ]
    },
    {
      "cell_type": "markdown",
      "source": [
        "Видим, что просто библиотека не распознала слово с двоеточием. Spacy с этим справиться, так что ничего страшного. теперь по поводу контракта/договора:"
      ],
      "metadata": {
        "id": "PX1DnzwtOBlO"
      }
    },
    {
      "cell_type": "code",
      "source": [
        "for text in train_df_spacy_ispoln.extracted_text:\n",
        "  words = [analyzer.parse(word)[0].normal_form for word in text.split(\" \") if re.fullmatch(\"[а-яА-Яa-zA-Z]*\", word) is not None]\n",
        "  if \"контракт\" not in words and \"договор\" not in words:\n",
        "    print(text)"
      ],
      "metadata": {
        "id": "ldgu-ELSOKyQ",
        "colab": {
          "base_uri": "https://localhost:8080/"
        },
        "outputId": "9b118cbb-9194-4446-efbc-c7d202ae55ec"
      },
      "execution_count": null,
      "outputs": [
        {
          "output_type": "stream",
          "name": "stdout",
          "text": [
            "Размер обеспечения исполнения контракта: 1% от цены контакта\n",
            "Размер обеспечения исполнения контракта: 5 % от цены контракта, по которой заключается контракт.\n",
            "Размер обеспечения исполнения контракта: 10% от начальной (максимальной) цены Контракта.\n",
            "Размер обеспечения исполнения контракта: 5 % от цены контракта.\n",
            "Размер обеспечения исполнения контракта: 10% от цены контракта.\n",
            "Размер обеспечения исполнения контракта: 10% от начальной (максимальной) цены Контракта.\n",
            "Размер обеспечения исполнения контракта: 10% от начальной (максимальной) цены Контракта.\n",
            "Обеспечение исполнения договора: 5% от начальной (максимальной) цены договора: 11 438,00 руб.\n",
            "Размер обеспечения: 5 % - 83 649,45 рублей\n",
            "Размер обеспечения исполнения договора: 30% от НМЦД\n",
            "Размер обеспечения исполнения договора: 5 (Пять) процентов от начальной (максимальной) цены договора)\n",
            "Размер обеспечения исполнения договора, срок и порядок его предоставления: 5 % - 7 421,50 (Семь тысяч четыреста двадцать один) руб. 50\n",
            "Размер обеспечения исполнения Договора: 2642,13 руб. (5 % начальной (максимальной) цены Договора).\n",
            "Обеспечение исполнения договора: 3 % от начальной (максимальной) цены\n",
            "Размер обеспечения исполнения договора: 5% НМЦД\n",
            "Размер и порядок предоставления обеспечения исполнения договора, а также требования к такому обеспечению 5 % от начальной (максимальной) цены договора. 18 994,35 руб.\n",
            "Размер обеспечения исполнения договора, руб. 32 550,00\n",
            "Размер обеспечения исполнения Договора: 20 % от цены Договора.\n",
            "Размер обеспечения исполнения договора: 5% от НМЦД 24 838 рублей 22 копейки\n",
            "Обеспечение исполнения обязательств по договору: требуется, в размере не менее 5 % от цены договора.\n",
            "Обеспечение исполнения обязательств по договору: требуется. - не менее 5 % (пять процентов) от цены договора.\n",
            "Размер такого обеспечения не может превышать 30 (тридцати) процентов начальной (максимальной) цены договора.\n",
            "Размер обеспечения: 5 % - 89 500,00 (восемьдесят девять тысяч пятьсот) рублей 00\n",
            "Обеспечение исполнения договора, срок и порядок его предоставления 5% от начальной цены договора, что составляет 3 381 руб. 22\n",
            "Размер обеспечения исполнения договора: установлен: 1% от НМЦД – 1 201,67 рублей.\n",
            "Обеспечение исполнения обязательств по договору: 5 % от цены договора.\n",
            "при отсутствии в конкретной закупочной документации требования об обеспечении договора: ОДi = (30 – Zi) %\n",
            "Обеспечение исполнения договора: Лот 1: 1 107 000,00 рублей Лот 2: 1 673 280,00 рублей Лот 3: 286 506,00 рублей\n",
            "при отсутствии в конкретной закупочной документации требования об обеспечении договора: ОДi = (30 – Zi) %\n",
            "Обеспечение исполнения обязательств по Договору, кроме гарантийных обязательств (обеспечение договора) установлено в размере 5 % от цены Договора, что составляет что составляет ___________\n",
            "Размер обеспечения договора, % (руб.): 5% (15 290,00 руб.)\n",
            "Размер обеспечения исполнения договора: ____________ руб., что составляет - 100 % от цены договора.\n",
            "Размер обеспечения: 5 % от начальной (максимальной) цены договора.\n",
            "Размер обеспечения исполнения договора: 0% от НМЦД\n"
          ]
        }
      ]
    },
    {
      "cell_type": "markdown",
      "source": [
        "Видим один шаблон, который не содержит слова контракт/договор: **Размер обеспечения: X % - N рублей**\n",
        "Остальные содержат, просто опять с двоеточием. Запомнили. Последнее: глянем на фрагменты без \"размер\"\n",
        "\n"
      ],
      "metadata": {
        "id": "GPRs88XeOWMM"
      }
    },
    {
      "cell_type": "code",
      "source": [
        "for text in train_df_spacy_ispoln.extracted_text:\n",
        "  words = [analyzer.parse(word)[0].normal_form for word in text.split(\" \") if re.fullmatch(\"[а-яА-Яa-zA-Z]*\", word) is not None]\n",
        "  if \"размер\" not in words:\n",
        "    print(text)"
      ],
      "metadata": {
        "id": "HYwA6OeIO1E9",
        "colab": {
          "base_uri": "https://localhost:8080/"
        },
        "outputId": "03e6c225-eca1-4057-fb62-9d976db2ed32"
      },
      "execution_count": null,
      "outputs": [
        {
          "output_type": "stream",
          "name": "stdout",
          "text": [
            "Сумма обеспечения контракта составляет 10 % от цены контракта\n",
            "Обеспечение исполнения Контракта составляет 10% от цены Контракта(цены лота),что составляет_________ (_____\n",
            "Сумма обеспечения исполнения договора составляет 10 % цены Договора, что составляет __________ (_________________\n",
            "Заказчиком установлено требование обеспечения исполнения Контракта - 5 % от цены Контракта, что составляет ​​​​​​​​​​​_____________\n",
            "Установить обеспечения исполнения контракта (от 0,5% до 30%) % обеспечения\n",
            "Обеспечение исполнения настоящего Контракта предоставляется Поставщиком на сумму 10% от начальной (максимальной) цены Контракта\n",
            "Исполнитель представляет Заказчику обеспечение исполнения контракта на сумму _______________ рублей __ копеек, эквивалентную 5 (пяти) процентам от начальной (максимальной) цены контракта.\n",
            "Обеспечение исполнения настоящего Контракта установлено в размере: 10 процентов начальной (максимальной) цены контракта.\n",
            "Обеспечение исполнения контракта 5% от цены контракта\n",
            "требования к такому обеспечению 10 % начальной (максимальной) цены контракта и составляет 184 759,70 рублей.\n",
            "Обеспечение исполнения договора: 5% от начальной (максимальной) цены договора: 11 438,00 руб.\n",
            "Обеспечение исполнения Договора 5 % от цены Договора, что составляет________руб ________коп.\n",
            "Обеспечение исполнения договора 1% от начальной максимальной цены договора : 18 564, 00 рублей (Восемнадцать тысяч пятьсот шестьдесят четыре рубля 00\n",
            "Сумма обеспечения настоящего Договора составляет: 240 000,00 рублей.\n",
            "Обеспечение исполнение договора 0 % от начальной (максимальной) цены договора\n",
            "Сумма обеспечения исполнения контракта предусмотрена в следующем размере: 5 % от начальной (максимальной) цены контракта\n",
            "Обеспечение исполнения настоящего договора предоставляется Поставщиком в размере: 5 % от начальной (максимальной) цены договора в сумме 7501,66\n",
            "Обеспечение исполнения Договора составляет 5% от начальной (максимальной) цены Договора\n",
            "не предусмотрено увеличенное от первоначально установленного обеспечения исполнения договора в 1,5 (полтора) раза, но не менее 5% (пяти) от НМЦ\n",
            "При проведении закупок по группе 2 Заказчик имеет право устанавливать обеспечение исполнения договора в размере: 1) не более 5% от начальной (максимальной) цены договора (лота)\n",
            "не предусмотрено увеличенное от первоначально установленного обеспечения исполнения договора в 1,5 (полтора) раза, но не менее 5% (пяти) от начальной (максимальной) цены договора\n",
            "Заказчик в качестве обеспечения исполнения договора может предусмотреть ежемесячное удержание 5% от стоимости выполненных участником закупки работ.\n",
            "Обеспечение исполнения договора составляет 5% от начальной (максимальной) цены договора.\n",
            "Обеспечение исполнения договора составляет 5% от начальной (максимальной) цены договора.\n",
            "Обеспечение исполнения настоящего договора предоставляется поставщиком в размере: 3% начальной (максимальной) цены договора на сумму 5 826,80\n",
            "Обеспечение исполнения настоящего договора предоставляется Поставщиком в размере: 3% от начальной (максимальной) цены договора\n",
            "Обеспечение исполнения договора: срок и порядок предоставления обеспечения, требования к обеспечению исполнения договора 5% начальной (максимальной) цены договора\n",
            "Обеспечение исполнения договора 10% (десять процентов) от начальной (максимальной) цены договора (лота)\n",
            "не предусмотрено увеличенное от первоначально установленного обеспечения исполнения договора в 1,5 (полтора) раза, но не более 5% (пяти) от начальной (максимальной) цены договора\n",
            "Обеспечение исполнения договора составляет: 5 % начальной (максимальной) цены договора, НДС не облагается.\n",
            "не предусмотрено увеличенное от первоначально установленного обеспечения исполнения договора в 1,5 (полтора) раза, но не менее 5% (пяти) от НМЦ\n",
            "Обеспечение исполнения настоящего договора предоставляется поставщиком в размере: 3% начальной (максимальной) цены договора\n",
            "Обеспечение исполнения настоящего договора предоставляется поставщиком в размере: 3% начальной (максимальной) цены договора\n",
            "Сумма обеспечения исполнения договора предусмотрена в следующем размере: 5 % от начальной (максимальной) цены договора\n",
            "В случае если Поставщиком, при участии в закупке, дано предложение с признаками демпинга, то обеспечение исполнения Договора составляет 5 % (пяти) процентов начальной (максимальной) цены Договора)\n",
            "В случае если Поставщиком, при участии в закупке, дано предложение с признаками демпинга, то обеспечение исполнения Договора составляет 5 % (пяти) процентов начальной (максимальной) цены Договора)\n",
            "не предусмотрено увеличенное от первоначально установленного обеспечения исполнения договора в 1,5 (полтора) раза, но не более 5% (пяти) от начальной (максимальной) цены договора\n",
            "Сумма обеспечения исполнения договора предусмотрена в следующем размере: 5 % от НМЦ договора.\n",
            "не предусмотрено увеличенное от первоначально установленного обеспечения исполнения договора в 1,5 (полтора) раза, но не менее 5% (пяти) от НМЦ\n",
            "Обеспечение исполнения договора: 3 % от начальной (максимальной) цены\n",
            "не предусмотрено увеличенное от первоначально установленного обеспечения исполнения договора в 1,5 (полтора) раза, но не менее 5% (пяти) от НМЦ\n",
            "Обеспечение договора в случае снижения участником стоимости договора на 25% и более от НМЦД\n",
            "Обеспечение договора в случае снижения участником стоимости договора на 25% и более от НМЦД\n",
            "Обеспечение договора в случае снижения участником стоимости договора на 25% и более от НМЦД\n",
            "Сумма обеспечительного платежа, предоставляемого в качестве обеспечения гарантийных обязательств по договору, должна составлять 5% от цены договора (включая НДС).\n",
            "Обеспечение исполнения договора составляет 5 % от начальной (максимальной) цены договора\n",
            "Обеспечение исполнения договора 5% от начальной максимальной цены договора\n",
            "Принять к сведению, что Исполнитель внес обеспечение исполнения Договора на сумму 30 000,00 (тридцать тысяч) рублей 00 копеек, что составляет 10% от начальной (максимальной)\n",
            "Сумма обеспечения исполнения договора предусмотрена в следующем размере: 5 % от НМЦ договора.\n",
            "Сумма обеспечения исполнения договора предусмотрена в следующем размере: 5 % от начальной (максимальной) цены договора\n",
            "Обеспечение исполнения договора предоставляется на сумму 100 000,00 (Сто тысяч рублей 00 копеек), что составляет 5%\n",
            "обеспечение исполнения обязательств по Договору на сумму не менее 20% от стоимости Договора с учетом НДС по форме Приложения №11\n",
            "обеспечение исполнения обязательств по Договору на сумму не менее 20% от стоимости Договора с учетом НДС по форме Приложения №11\n",
            "обеспечение исполнения обязательств по Договору на сумму не менее 20% от стоимости Договора с учетом НДС по форме Приложения №11\n",
            "в соответствии с пп. 25,26 Постановления Правительства РФ от 11.12.2014 № 1352 требование к обеспечению исполнения договора не может превышать 5% от стоимости договора.\n",
            "не предусмотрено увеличенное от первоначально установленного обеспечения исполнения договора в 1,5 (полтора) раза, но не более 5% (пяти) от начальной (максимальной) цены договора\n",
            "не предусмотрено увеличенное от первоначально установленного обеспечения исполнения договора в 1,5 (полтора) раза, но не менее 5% (пяти) от начальной (максимальной) цены договора.\n",
            "Обеспечение исполнения договора (30%)\n",
            "Обеспечение исполнения договора 5% от НМЦД – 6 500,00 рублей.\n",
            "Обеспечение исполнения Договора составляет 5 % от начальной (максимальной) цены Договора в сумме _________\n",
            "не предусмотрено увеличенное от первоначально установленного обеспечения исполнения договора в 1,5 (полтора) раза, но не менее 5% (пяти) от НМЦ\n",
            "не предусмотрено увеличенное от первоначально установленного обеспечения исполнения договора в 1,5 (полтора) раза, но не менее 5% (пяти) от НМЦ\n",
            "не предусмотрено увеличенное от первоначально установленного обеспечения исполнения договора в 1,5 (полтора) раза, но не менее 5% (пяти) от НМЦ\n",
            "не предусмотрено увеличенное от первоначально установленного обеспечения исполнения договора в 1,5 (полтора) раза, но не более 5% (пяти) от начальной (максимальной) цены договора\n",
            "Обеспечение исполнения договора 5% от начальной (максимальной) цены договора\n",
            "Обеспечение исполнения договора составляет 30% от начальной (максимальной) цены договора.\n",
            "Обеспечение исполнения договора составляет 30% от начальной (максимальной) цены договора.\n",
            "Обеспечение исполнения договора 5 % от начальной (максимальной) цены договора\n",
            "не предусмотрено увеличенное от первоначально установленного обеспечения исполнения договора в 1,5 (полтора) раза, но не менее 5% (пяти) от НМЦ\n",
            "Обеспечение исполнения договора 10% (десять процентов) от начальной (максимальной) цены договора (лота)\n",
            "Обеспечение исполнения обязательств по договору: требуется. - не менее 5 % (пять процентов) от цены договора.\n",
            "не предусмотрено увеличенное от первоначально установленного обеспечения исполнения договора в 1,5 (полтора) раза, но не более 5% (пяти) от начальной (максимальной) цены договора\n",
            "Обеспечение исполнения Договора Устанавливается 5% от начальной максимальной цены договора\n",
            "Сумма обеспечения исполнения Договора предусмотрена в следующем размере: 30 % от начальной (максимальной) цены Договора\n",
            "Сумма обеспечения исполнения Договора предусмотрена в следующем размере: 30 % от начальной (максимальной) цены Договора\n",
            "Обеспечение исполнение договора 5 (пять) процентов от начальной (максимальной) цены договора\n",
            "Обеспечение исполнения Договора, предоставляется на сумму 5 % от начальной максимальной цены Договора\n",
            "Обеспечение исполнения настоящего договора предоставляется поставщиком в размере: 5% начальной (максимальной) цены договора на сумму: 44000,00\n",
            "Подрядчик внес обеспечение Договора на сумму: 0 (ноль) рублей 0 (ноль) копеек\n",
            "требование об обеспечении исполнения договора в пределах от 5 до 30 процентов начальной (максимальной) цены договора\n",
            "Сумма обеспечения исполнения договора предусмотрена в следующем размере: 5 (Пяти) % от начальной (максимальной) цены договора\n",
            "Обеспечение исполнения договора 17 920,50 рублей\n",
            "Принять к сведению, что Исполнитель внес обеспечение исполнения Договора на сумму 0 (нуль) рублей 00 копеек.\n",
            "Обеспечение исполнения договора 5,00 % от начальной (максимальной) цены Договора\n",
            "Обеспечение исполнения договора, срок и порядок его предоставления 5% от начальной цены договора, что составляет 3 381 руб. 22\n",
            "не предусмотрено увеличенное от первоначально установленного обеспечения исполнения договора в 1,5 (полтора) раза, но не менее 5% (пяти) от НМЦ\n",
            "не предусмотрено увеличенное от первоначально установленного обеспечения исполнения договора в 1,5 (полтора) раза, но не менее 5% (пяти) от НМЦ\n",
            "Обеспечение исполнения договора составляет 2 % от начальной (максимальной) цены договора.\n",
            "требование об обеспечении исполнения договора в пределах от 5 до 30 процентов начальной (максимальной) цены договора\n",
            "не предусмотрено увеличенное от первоначально установленного обеспечения исполнения договора в 1,5 (полтора) раза, но не менее 5% (пяти) от НМЦ\n",
            "установлено требование обеспечения исполнения договора. 5 % от начальной (максимальной) цены Договора\n",
            "Обеспечение исполнения договора установлено в размере: 201 192,90 что составляет 5% от НМЦД.\n",
            "Обеспечение исполнения обязательств по договору: 5 % от цены договора.\n",
            "не предусмотрено увеличенное от первоначально установленного обеспечения исполнения договора в 1,5 (полтора) раза, но не более 5% (пяти) от начальной (максимальной) цены договора\n",
            "при отсутствии в конкретной закупочной документации требования об обеспечении договора: ОДi = (30 – Zi) %\n",
            "не предусмотрено увеличенное от первоначально установленного обеспечения исполнения договора в 1,5 (полтора) раза, но не менее 5% (пяти) от НМЦ\n",
            "Обеспечение исполнения договора: Лот 1: 1 107 000,00 рублей Лот 2: 1 673 280,00 рублей Лот 3: 286 506,00 рублей\n",
            "Обеспечение исполнения договора 0%\n",
            "при отсутствии в конкретной закупочной документации требования об обеспечении договора: ОДi = (30 – Zi) %\n",
            "обеспечение исполнения договора установлено в размере: 0 рублей (не установлено).\n",
            "предусмотрено увеличенное от первоначально установленного обеспечения исполнения договора в 1,5 (полтора) раза, но не менее 5% (пяти) от начальной (максимальной) цены договора\n",
            "не предусмотрено увеличенное от первоначально установленного обеспечения исполнения договора в 1,5 (полтора) раза, но не менее 5% (пяти) от НМЦ\n",
            "Обеспечение исполнения Договора: 5% от начальной (максимальной) цены Договора\n",
            "Сумма обеспечения договора предусмотрена в следующем размере: - 5 % от начальной (максимальной) цены договора\n",
            "не предусмотрено увеличенное от первоначально установленного обеспечения исполнения договора в 1,5 (полтора) раза, но не менее 5% (пяти) от НМЦ\n",
            "Обеспечение исполнения настоящего договора предоставляется поставщиком в размере: 3 % начальной (максимальной) цены договора\n",
            "Сумма обеспечения исполнения контракта предусмотрена в следующем размере: 5 % от начальной (максимальной) цены контракта\n",
            "Обеспечение исполнения договора 5% от цены договора. НДС не облагается.\n",
            "Сумма обеспечения настоящего Договора составляет: 51 060 рублей 00 рублей.\n",
            "Сумма обеспечения исполнения договора предусмотрена в следующем размере: 5 % от начальной (максимальной) цены договора.\n",
            "не предусмотрено увеличенное от первоначально установленного обеспечения исполнения договора в 1,5 (полтора) раза, но не более 5% (пяти) от начальной (максимальной) цены договора\n",
            "При этом договор заключается только после предоставления участником такого обеспечения исполнения договора в размере, не превышающем 30 процентов начальной (максимальной) цены договора (цены лота)\n",
            "не предусмотрено увеличенное от первоначально установленного обеспечения исполнения договора в 1,5 (полтора) раза, но не менее 5% (пяти) от НМЦ\n",
            "не предусмотрено увеличенное от первоначально установленного обеспечения исполнения договора в 1,5 (полтора) раза, но не менее 5% (пяти) от НМЦ\n",
            "не предусмотрено увеличенное от первоначально установленного обеспечения исполнения договора в 1,5 (полтора) раза, но не менее 5% (пяти) от НМЦ\n",
            "Обеспечение исполнения настоящего Договора представляется на сумму 95 266,08 рублей, что составляет 5 % от начальной (максимальной) цены договора.\n",
            "Обеспечение исполнения договора 5 % начальной (максимальной) цены договора\n",
            "Обеспечение исполнения настоящего договора предоставляется Поставщиком в размере: 3% от начальной (максимальной) цены договора\n",
            "При проведении закупок по группе 2 Заказчик имеет право устанавливать обеспечение исполнения договора в размере: 1) не более 5% от начальной (максимальной) цены договора (лота)\n",
            "Сумма обеспечения исполнения договора: 49 500 (сорок девять тысяч пятьсот) рублей 00 копеек - 5% от начальной (максимальной) цены договора\n",
            "не предусмотрено увеличенное от первоначально установленного обеспечения исполнения договора в 1,5 (полтора) раза, но не более 5% (пяти) от начальной (максимальной) цены договора\n"
          ]
        }
      ]
    },
    {
      "cell_type": "markdown",
      "source": [
        "Как и раньше, все фрагменты связаны с рублями, процентами. Заметим, что не видно фраз, где размер ... не установлен. Таких шаблонов нет?\n"
      ],
      "metadata": {
        "id": "fl-bwC6uPtAd"
      }
    },
    {
      "cell_type": "code",
      "source": [
        "count = 0\n",
        "for text in train_df_spacy_ispoln.extracted_text:\n",
        "  if re.fullmatch(\".*\\d.*\", text):\n",
        "    count+=1\n",
        "  else:\n",
        "    print(text)\n",
        "  \n",
        "print(count)\n",
        "del count"
      ],
      "metadata": {
        "id": "FkQ6xAkoP-Iv",
        "colab": {
          "base_uri": "https://localhost:8080/"
        },
        "outputId": "6d12d79a-7ec5-46b7-9ef2-4d06e420e246"
      },
      "execution_count": null,
      "outputs": [
        {
          "output_type": "stream",
          "name": "stdout",
          "text": [
            "984\n"
          ]
        }
      ]
    },
    {
      "cell_type": "markdown",
      "source": [
        "Кажется, что действительно такого здесь нет. в наборе вообще нет фраз без цифр.\n",
        "Посмотрим на один из нескольких интересных примеров. В нем показано, что иногда фрагменты не содержат все словосочетание из метки. Здесь, например, нет слова исполнение."
      ],
      "metadata": {
        "id": "qfeHo2_s4JBs"
      }
    },
    {
      "cell_type": "code",
      "source": [
        "train_df[train_df[\"id\"] == 914041532].extracted_text.iloc[0]"
      ],
      "metadata": {
        "colab": {
          "base_uri": "https://localhost:8080/",
          "height": 35
        },
        "id": "HUOHriw-4VCj",
        "outputId": "0d19ee4e-b132-41d2-f01a-9ad0de027969"
      },
      "execution_count": null,
      "outputs": [
        {
          "output_type": "execute_result",
          "data": {
            "text/plain": [
              "'Размер обеспечения договора 5 % от НМЦ составляет: 4403 руб.75 коп.'"
            ],
            "application/vnd.google.colaboratory.intrinsic+json": {
              "type": "string"
            }
          },
          "metadata": {},
          "execution_count": 61
        }
      ]
    },
    {
      "cell_type": "markdown",
      "source": [
        "Разбора деревьев далее не будет, ибо суть в целом та же. "
      ],
      "metadata": {
        "id": "FtrfB1vO4au3"
      }
    },
    {
      "cell_type": "markdown",
      "source": [
        "#5. Перейдем к коду поиска фрагментов. \n",
        "[Назад вверх](#scrollTo=9XBkY-v3_bc-)\n",
        "\n",
        "Подход аналогичный: сначала ищем отобраные заранее частые шаблоны, затем при неудаче ищем по паттернам регулярных выражений\n",
        "Паттерны:\n",
        "- ОБЩЕЕ УСЛОВИЕ, которое должно выполняться всегда: предложение содержит в любой форме фразу \"обеспечение исполнения договора/контракта\" или \"обеспечение  договора/контракта\"\n",
        "- Предложение содержит в себе числа в виде слов или цифр и последующий знак процента или упомянание рубля\n",
        "\n",
        "Как видно, шаблон связанный с \"установить\" был убран, так как не имеет смысла в данном случае\n"
      ],
      "metadata": {
        "id": "zMoFwlJCQLXE"
      }
    },
    {
      "cell_type": "code",
      "source": [
        "phrases_ispoln = [\n",
        "    \"Размер обеспечени[яе]( исполнения)? (([кК]онтракта)|([дД]оговора)) устанавливается от [., \\d]*% до [., \\d]*% начальной \\(максимальной\\) цены контракта\",\n",
        "    \"Размер обеспечени[яе]( исполнения)? (([кК]онтракта)|([дД]оговора)):? [., \\d]*%(( (от )?начальной \\(максимальной\\) цены контракта)|( (от )?цены( (([кК]онтракта)|([дД]оговора)))?))\",\n",
        "    \"Размер обеспечени[яе]( исполнения)? (([кК]онтракта)|([дД]оговора)) [.,\\d]* Российский рубль\"\n",
        "]"
      ],
      "metadata": {
        "id": "WcJcTdSw46eh"
      },
      "execution_count": null,
      "outputs": []
    },
    {
      "cell_type": "code",
      "source": [
        "#@title Паттерны\n",
        "first_pattern = [ # обеспечение главное, имеются цифры связанные с деньгами или процентами\n",
        "  {\n",
        "      \"RIGHT_ID\": \"obespechenie_word\", \n",
        "      \"RIGHT_ATTRS\": {\"LEMMA\": \"обеспечение\"} \n",
        "  },\n",
        "  {\n",
        "      \"LEFT_ID\": \"obespechenie_word\",\n",
        "      \"REL_OP\": \">>\", \n",
        "      \"RIGHT_ID\": \"garant_word\",\n",
        "      \"RIGHT_ATTRS\": {\"LEMMA\": {\"IN\" : [\"договор\",\"контракт\"]},\n",
        "                      \"DEP\": \"nmod\"} \n",
        "  },\n",
        "  { # Число где-то в дереве после слова \"обеспечение\"\n",
        "      \"LEFT_ID\": \"obespechenie_word\", \n",
        "      \"REL_OP\": \".*\", \n",
        "      \"RIGHT_ID\": \"number\",\n",
        "      \"RIGHT_ATTRS\": {\"POS\": \"NUM\"}\n",
        "  }, # после которого идет процент или рубль\n",
        "  {   \"LEFT_ID\": \"number\",\n",
        "      \"REL_OP\": \".\", # следующий токен \n",
        "      \"RIGHT_ID\": \"to_number\",\n",
        "      \"RIGHT_ATTRS\": {\"LEMMA\" : {\"IN\" : [\"рубль\", \"%\", \"руб.\", \"руб\", \"процент\"]}}\n",
        "  }\n",
        "]\n",
        "second_pattern = [ # обеспечение зависимое, есть цифра\n",
        "  {\n",
        "      \"RIGHT_ID\": \"main\", # root\n",
        "      \"RIGHT_ATTRS\": {} \n",
        "  },\n",
        "  {\n",
        "      \"LEFT_ID\": \"main\",\n",
        "      \"REL_OP\": \">>\", \n",
        "      \"RIGHT_ID\": \"obespechenie_word\", \n",
        "      \"RIGHT_ATTRS\": {\"LEMMA\": \"обеспечение\"}\n",
        "  },\n",
        "  {\n",
        "      \"LEFT_ID\": \"obespechenie_word\",\n",
        "      \"REL_OP\": \">>\",\n",
        "      \"RIGHT_ID\": \"dogovor_word\",\n",
        "      \"RIGHT_ATTRS\": {\"LEMMA\": {\"IN\" : [\"договор\",\"контракт\"]},\n",
        "                      \"DEP\": \"nmod\"}\n",
        "  },\n",
        "  { # Число где-то в дереве после слова обеспечение\n",
        "      \"LEFT_ID\": \"obespechenie_word\", \n",
        "      \"REL_OP\": \".*\", \n",
        "      \"RIGHT_ID\": \"number\",\n",
        "      \"RIGHT_ATTRS\": {\"POS\": \"NUM\"}\n",
        "  }, \n",
        "  {\n",
        "      \"LEFT_ID\": \"number\",\n",
        "      \"REL_OP\": \".\", # следующий токен \n",
        "      \"RIGHT_ID\": \"to_number\",\n",
        "      \"RIGHT_ATTRS\": {\"LEMMA\" : {\"IN\" : [\"рубль\", \"%\", \"руб.\", \"руб\", \"процент\"]}}\n",
        "  }\n",
        "]\n",
        "third_pattern = [ # обеспечение зависимое, есть цифра, которая имеет транскрипцию\n",
        "  {\n",
        "      \"RIGHT_ID\": \"main\", # root\n",
        "      \"RIGHT_ATTRS\": {} \n",
        "  },\n",
        "  {\n",
        "      \"LEFT_ID\": \"main\",\n",
        "      \"REL_OP\": \">>\", \n",
        "      \"RIGHT_ID\": \"obespechenie_word\", \n",
        "      \"RIGHT_ATTRS\": {\"LEMMA\": \"обеспечение\"}\n",
        "  },\n",
        "  {\n",
        "      \"LEFT_ID\": \"obespechenie_word\",\n",
        "      \"REL_OP\": \">>\",\n",
        "      \"RIGHT_ID\": \"dogovor_word\",\n",
        "      \"RIGHT_ATTRS\": {\"LEMMA\": {\"IN\" : [\"договор\",\"контракт\"]},\n",
        "                      \"DEP\": \"nmod\"}\n",
        "  },\n",
        "  { # Число где-то в дереве после слова обеспечение\n",
        "      \"LEFT_ID\": \"obespechenie_word\", \n",
        "      \"REL_OP\": \".*\", \n",
        "      \"RIGHT_ID\": \"number\",\n",
        "      \"RIGHT_ATTRS\": {\"POS\": \"NUM\"}\n",
        "  }, \n",
        "  {\n",
        "      \"LEFT_ID\": \"number\", \n",
        "      \"REL_OP\": \".\", \n",
        "      \"RIGHT_ID\": \"skobka1\",\n",
        "      \"RIGHT_ATTRS\": {\"LEMMA\": \"(\"}\n",
        "  },\n",
        "  {\n",
        "      \"LEFT_ID\": \"skobka1\", \n",
        "      \"REL_OP\": \".\", \n",
        "      \"RIGHT_ID\": \"something\",\n",
        "      \"RIGHT_ATTRS\": {\"POS\": {\"IN\" : [\"NUM\", \"PROPN\"]}}\n",
        "  },\n",
        "  {\n",
        "      \"LEFT_ID\": \"something\", \n",
        "      \"REL_OP\": \".\", \n",
        "      \"RIGHT_ID\": \"skobka2\",\n",
        "      \"RIGHT_ATTRS\": {\"LEMMA\": \")\"}\n",
        "  },\n",
        "  {\n",
        "      \"LEFT_ID\": \"skobka2\",\n",
        "      \"REL_OP\": \".\", \n",
        "      \"RIGHT_ID\": \"to_number\",\n",
        "      \"RIGHT_ATTRS\": {\"LEMMA\" : {\"IN\" : [\"рубль\", \"%\", \"руб.\", \"руб\", \"процент\"]}}\n",
        "  }\n",
        "]\n",
        "fourth_pattern = [ # обеспечение главное, имеются цифры связанные с деньгами или процентами и транскрипция\n",
        "  {\n",
        "      \"RIGHT_ID\": \"obespechenie_word\", \n",
        "      \"RIGHT_ATTRS\": {\"LEMMA\": \"обеспечение\"} \n",
        "  },\n",
        "  {\n",
        "      \"LEFT_ID\": \"obespechenie_word\",\n",
        "      \"REL_OP\": \">>\", \n",
        "      \"RIGHT_ID\": \"garant_word\",\n",
        "      \"RIGHT_ATTRS\": {\"LEMMA\": {\"IN\" : [\"договор\",\"контракт\"]},\n",
        "                      \"DEP\": \"nmod\"} \n",
        "  },\n",
        "  { \n",
        "      \"LEFT_ID\": \"obespechenie_word\", \n",
        "      \"REL_OP\": \".*\", \n",
        "      \"RIGHT_ID\": \"number\",\n",
        "      \"RIGHT_ATTRS\": {\"POS\": \"NUM\"}\n",
        "  }, \n",
        "  {\n",
        "      \"LEFT_ID\": \"number\", \n",
        "      \"REL_OP\": \".\", \n",
        "      \"RIGHT_ID\": \"skobka1\",\n",
        "      \"RIGHT_ATTRS\": {\"LEMMA\": \"(\"}\n",
        "  },\n",
        "  {\n",
        "      \"LEFT_ID\": \"skobka1\", \n",
        "      \"REL_OP\": \".\", \n",
        "      \"RIGHT_ID\": \"something\",\n",
        "      \"RIGHT_ATTRS\": {\"POS\": {\"IN\" : [\"NUM\", \"PROPN\"]}}\n",
        "  },\n",
        "  {\n",
        "      \"LEFT_ID\": \"something\", \n",
        "      \"REL_OP\": \".\", \n",
        "      \"RIGHT_ID\": \"skobka2\",\n",
        "      \"RIGHT_ATTRS\": {\"LEMMA\": \")\"}\n",
        "  },\n",
        "  {\n",
        "      \"LEFT_ID\": \"skobka2\",\n",
        "      \"REL_OP\": \".\", \n",
        "      \"RIGHT_ID\": \"to_number\",\n",
        "      \"RIGHT_ATTRS\": {\"LEMMA\" : {\"IN\" : [\"рубль\", \"%\", \"руб.\", \"руб\", \"процент\"]}}\n",
        "  }\n",
        "]"
      ],
      "metadata": {
        "id": "ZwNaxv4WQqnn"
      },
      "execution_count": null,
      "outputs": []
    },
    {
      "cell_type": "code",
      "source": [
        "matcher_ispoln = spacy.matcher.DependencyMatcher(nlp.vocab)\n",
        "matcher_ispoln.add(\"patterns\", [first_pattern, second_pattern, third_pattern, fourth_pattern])"
      ],
      "metadata": {
        "id": "Jt25CBg25AQQ"
      },
      "execution_count": null,
      "outputs": []
    },
    {
      "cell_type": "code",
      "source": [
        "def predictIspoln (row): # только для соответствующей метки\n",
        "  text = row[\"text\"]\n",
        "\n",
        "  predicted_part = {}\n",
        "  predicted_part[\"text\"] = ['']\n",
        "  predicted_part[\"answer_start\"] = [0]\n",
        "  predicted_part[\"answer_end\"] = [0]  \n",
        "\n",
        "  for phrase in phrases_ispoln:\n",
        "    result = re.search(phrase, text)\n",
        "    if result is not None:\n",
        "      predicted_part[\"text\"] = result.group(0)\n",
        "      predicted_part[\"answer_start\"] = [result.start()]\n",
        "      predicted_part[\"answer_end\"] = [result.end()]   \n",
        "      row[\"extracted_part\"] = predicted_part  \n",
        "      return row\n",
        "\n",
        "  isFragment = False\n",
        "  answer = []\n",
        "  doc = nlp(text)\n",
        "  for sentence in doc.sents:\n",
        "    if len(sentence) > 80: # если предложение очень большое, то лучше на него время не тратить\n",
        "      continue;\n",
        "    if sentence.text in titles:\n",
        "      continue\n",
        "    doc_sent = sentence.as_doc()\n",
        "    matches = matcher_ispoln(doc_sent)\n",
        "    if isFragment:\n",
        "      if len(matches) > 0:\n",
        "        answer.append(sentence.text)\n",
        "        predicted_part[\"answer_end\"] = [sentence.end_char]   \n",
        "      else:\n",
        "        break;\n",
        "    else:\n",
        "      if len(matches) > 0:\n",
        "        answer.append(sentence.text)\n",
        "        predicted_part[\"answer_start\"] = [sentence.start_char]\n",
        "        predicted_part[\"answer_end\"] = [sentence.end_char] \n",
        "        isFragment = True\n",
        "  predicted_part[\"text\"] = \" \".join(answer)\n",
        "  row[\"extracted_part\"] = predicted_part\n",
        "  return row"
      ],
      "metadata": {
        "id": "gsCBtBis52yL"
      },
      "execution_count": null,
      "outputs": []
    },
    {
      "cell_type": "markdown",
      "source": [
        "Код для теста предсказаний"
      ],
      "metadata": {
        "id": "vD0M2Cu6V8pR"
      }
    },
    {
      "cell_type": "code",
      "source": [
        "# train_df_ispoln = train_df[train_df[\"label\"] == \"обеспечение исполнения контракта\"].drop([\"answer_start\", \"answer_end\"],axis=1)\n",
        "# train_df_ispoln = train_df_ispoln.apply(predictIspoln, axis=1)"
      ],
      "metadata": {
        "id": "BxToN0jY6heJ"
      },
      "execution_count": null,
      "outputs": []
    },
    {
      "cell_type": "code",
      "source": [
        "# counter = 0\n",
        "# for index,row in train_df_ispoln.iterrows():\n",
        "#   if row[\"extracted_text\"] != row[\"predicted_text\"]:\n",
        "#     print(\"Extracted part:\")\n",
        "#     print(row[\"extracted_text\"])\n",
        "#     print(\"Predicted:\")\n",
        "#     print(row[\"predicted_text\"])"
      ],
      "metadata": {
        "id": "bYk3wuGE6lAs"
      },
      "execution_count": null,
      "outputs": []
    },
    {
      "cell_type": "markdown",
      "source": [
        "#6. Предсказание фрагментов для обоих датасетов\n",
        "[Назад вверх](#scrollTo=9XBkY-v3_bc-)\n",
        "\n",
        "Объединим подходы, предскажем фрагменты и сохраним получившиеся результаты"
      ],
      "metadata": {
        "id": "f5R6ZzTO8oH-"
      }
    },
    {
      "cell_type": "code",
      "source": [
        "def predict(row):\n",
        "  if row.label == \"обеспечение гарантийных обязательств\":\n",
        "    return predictGarant(row)\n",
        "  else:\n",
        "    return predictIspoln(row)"
      ],
      "metadata": {
        "id": "RThdaGz69m6p"
      },
      "execution_count": null,
      "outputs": []
    },
    {
      "cell_type": "code",
      "source": [
        "train_df_predicted = train_df.drop([\"extracted_text\",\"answer_start\", \"answer_end\"], axis=1).progress_apply(predict, axis=1)\n",
        "test_df_predicted =  test_df.progress_apply(predict, axis=1)"
      ],
      "metadata": {
        "id": "ZTCrqms58ONc",
        "colab": {
          "base_uri": "https://localhost:8080/"
        },
        "outputId": "712147af-e6d3-4420-84ad-087511233ed3"
      },
      "execution_count": null,
      "outputs": [
        {
          "output_type": "stream",
          "name": "stderr",
          "text": [
            "100%|██████████| 1799/1799 [05:29<00:00,  5.45it/s]\n",
            "100%|██████████| 318/318 [00:58<00:00,  5.44it/s]\n"
          ]
        }
      ]
    },
    {
      "cell_type": "code",
      "source": [
        "train_df_predicted.to_json('/content/train_predicted.json', indent=True, orient=\"records\", force_ascii=False)\n",
        "test_df_predicted.to_json('/content/test_predicted.json', indent=True,orient = \"records\", force_ascii=False)"
      ],
      "metadata": {
        "id": "jo09L2GsFS4b"
      },
      "execution_count": null,
      "outputs": []
    },
    {
      "cell_type": "markdown",
      "source": [
        "\n",
        "\n",
        "---\n",
        "#7. Дообучение компонента \"ner\" на нужные нам две категории.\n",
        "[Назад вверх](#scrollTo=9XBkY-v3_bc-)\n",
        "\n",
        "Эта часть совершенно иная, нежели предыдущая. Здесь, как сказано, я собираюсь добавить в ner компонент две метки(которые мы используем), показать модели какие куски подходят под эти метки, и в идеале получить модель которая будет их находить в новых текстах.\n",
        "Модель использует те же модификации, что и до этого, запускать код отдельно не нужно"
      ],
      "metadata": {
        "id": "bbOjUvEABRRX"
      }
    },
    {
      "cell_type": "code",
      "source": [
        "training_data = [] # List of tuples of format raw_text, dict(entities:[(int,int,label)])"
      ],
      "metadata": {
        "id": "zWVcAATRc90d"
      },
      "execution_count": null,
      "outputs": []
    },
    {
      "cell_type": "code",
      "source": [
        "for idx, row in train_df.iterrows():\n",
        "  if row[\"extracted_text\"] != '' :\n",
        "    training_data.append((row.text, \n",
        "                          {\"entities\":[(row.answer_start, row.answer_end, row.label)]}\n",
        "                          ))"
      ],
      "metadata": {
        "id": "0WGQIbsaB0LD"
      },
      "execution_count": null,
      "outputs": []
    },
    {
      "cell_type": "code",
      "source": [
        "n_iter = 100\n",
        "output_dir = '/content/my_model'\n",
        "# некоторые особые случаи из тренировочного набора\n",
        "special_case = [{\"ORTH\": \"руб\"}, {\"ORTH\": \"лей\"}]\n",
        "nlp.tokenizer.add_special_case(\"рублей\", special_case)"
      ],
      "metadata": {
        "id": "DKCn5H_qK7Ev"
      },
      "execution_count": null,
      "outputs": []
    },
    {
      "cell_type": "code",
      "source": [
        "ner = nlp.get_pipe(\"ner\")\n",
        "ner.add_label(\"обеспечение исполнения контракта\")\n",
        "ner.add_label(\"обеспечение гарантийных обязательств\")\n",
        "other_pipes = [pipe for pipe in nlp.pipe_names if pipe != \"ner\"]\n",
        "best_loss = {'ner' : 1000}\n",
        "with nlp.disable_pipes(*other_pipes):  # only train NER\n",
        "  optimizer = nlp.begin_training()\n",
        "  for itn in tqdm(range(n_iter)):\n",
        "    random.shuffle(training_data)\n",
        "    losses = {}\n",
        "    batches = minibatch(training_data,\n",
        "                        size=compounding(4., 32., 1.01))\n",
        "    for batch in batches:\n",
        "      texts, dicts = zip(*batch)\n",
        "      example = []\n",
        "      for i in range(len(texts)):\n",
        "        doc = nlp.make_doc(texts[i])\n",
        "        entities = dicts[i]\n",
        "        example.append(Example.from_dict(doc, entities))\n",
        "      nlp.update(\n",
        "          example,\n",
        "          drop=0.3,\n",
        "          sgd=optimizer,\n",
        "          losses=losses)\n",
        "    print(\"Losses: \", losses)\n",
        "    if losses[\"ner\"] < best_loss['ner']:\n",
        "      best_loss['ner'] = losses[\"ner\"]\n",
        "      nlp.to_disk(output_dir)"
      ],
      "metadata": {
        "id": "L1IJyxjkQLAX"
      },
      "execution_count": null,
      "outputs": []
    },
    {
      "cell_type": "code",
      "source": [
        "text = \"Проект Контракта № 81-22-ОАЭФ на поставку перевязочного материала (ОКПД 2 21.20.24.133) г. Мытищи «___»_________ 20__ г. Федеральное бюджетное учреждение науки «Федеральный научный центр гигиены им. Ф.Ф. Эрисмана» Федеральной службы по д деятельности, средств ОМС на 2022 год. 8.2. Оплата по Контракту осуществляется в безналичном порядке путем перечисления денежных средств со счета Заказчика на счет Поставщика. Датой оплаты считается дата списания денежных средств со счета Заказчика. Оплата по Контракту осуществляется после исполнения обязательств Поставщиком по поставке Товара в соответствии со Спецификацией (приложение № 1 к Контракту). 8.3. Оплата по Контракту осуществляется по факту поставки в течение 7 (семи) рабочих дней с даты подписания Заказчиком документа о приемке, предусмотренного частью 7 статьи 94 Федерального закона о контрактной системе. 8.4. По окончании исполнения Сторонами обязательств по Контракту в течение 7 (семи) дней, Стороны подписывают Акт сверки расчетов (приложение № 3 к Контракту). 9. Обеспечение исполнения Контракта[footnoteRef:2] [2: Положения об обеспечении исполнения Контракта не применяются в случаях, предусмотренных частью 8 статьи 96 Федерального закона о контрактной системе.] 9.1. Поставщик при заключении Контракта должен предоставить Заказчику обеспечение исполнения Контракта в размере 5 % от цены контракта, что составляет _____________ () рублей ___ коп. В случае если предложенная Поставщиком цена Контракта снижена на 25 % и более по отношению к начальной (максимальной) цене контракта, обеспечение исполнения Контракта предоставляется в соответствии со статьей 37 Федерального закона о контрактной системе. Исполнение Контракта может обеспечиваться предоставлением независимой гарантии, соответствующей требованиям статьи 45 Федерального закона о контрактной системе, или внесением денежных средств на указанный Заказчиком счет, на котором в соответствии с законодательством Российской Федерации учитываются операции со средствами, поступающими Заказчику. Способ обеспечения исполнения Контракта, срок действия независимой гарантии определяется Поставщиком самостоятельно. Срок действия независимой гарантии должен превышать предусмотренный Контрактом срок исполнения обязательств, которые должны быть обеспечены такой независимой гарантией, не менее чем на один месяц, в том числе в случае его изменения в соответствии со статьей 95 Федерально Peha-Haft (Hartmann) или аналоги От Заказчика: _______________________ М.П. От Поставщика: __________________________ М.П. (при наличии) Приложение N3 к Контракту № 81-22-ОАЭФ от \\\"__\\\" __________ 2022 г. Образец АКТ СВЕРКИ РАСЧЕТОВ \"\n",
        "doc = nlp(text)\n",
        "for entity in doc.ents:\n",
        "  if entity.label_ == \"обеспечение исполнения контракта\":\n",
        "    print(entity.text)\n",
        "# должно быть:\n",
        "#Поставщик при заключении Контракта должен предоставить Заказчику обеспечение исполнения Контракта в размере 5 % от цены контракта\n",
        "# Выводит же, что ничего нет"
      ],
      "metadata": {
        "id": "Tlx87Y9DlruS"
      },
      "execution_count": null,
      "outputs": []
    },
    {
      "cell_type": "code",
      "source": [
        "text = \"Извещение о проведении электронного аукциона для закупки №0306100000422000064 Общая информация Номер извещения 0306100000422000064 Наименование объекта закупки Установка элементов обустройства автомобильных дорог общего пользования федерального значения. требованиями Федерального закона №44-ФЗ участником закупки, с которым заключается контракт, самостоятельно. При этом срок действия независимой гарантии должен превышать предусмотренный контрактом срок исполнения обязательств, которые должны быть обеспечены такой независимой гарантией, не менее чем на один месяц, в том числе в случае его изменения в соответствии со статьей 95 Федерального закона №44-ФЗ. Платежные реквизиты \\\"Номер расчётного счёта\\\" 00000000000000000000 \\\"Номер лицевого счёта\\\" См. прилагаемые документы \\\"БИК\\\" 000000000 \\\"Наименование кредитной организации\\\" \\\"Номер корреспондентского счета\\\" Требования к гарантии качества товара, работы, услуги Требуется гарантия качества товара, работы, услуги Да Информация о требованиях к гарантийному обслуживанию товара Требования к гарантии производителя товара Срок, на который предоставляется гарантия указан в пункте 7.2. проекта государственного контракта Обеспечение гарантийных обязательств Требуется обеспечение гарантийных обязательств Размер обеспечения гарантийных обязательств 6311.42 Российский рубль Порядок предоставления обеспечения гарантийных обязательств, требования к обеспечению гарантийные обязательства могут обеспечиваться предоставлением независимой гарантии или внесением денежных средств на указанный заказчиком счет, на котором в соответствии с законодательством Российской Федерации учитываются операции со средствами, поступающими заказчику. Требования к независимой гарантии установлены в статье 45 Федерального закона №44-ФЗ, а также содержатся в разделе 15 Извещения. Способ обеспечения исполнения контракта, гарантийных обязательств, срок действия независимой гарантии определяются в соответствии с требованиями Федерального закона №44-ФЗ участником закупки, с которым заключается контракт, самостоятельно. При этом срок действия независимой гарантии должен превышать предусмотренный контрактом срок исполнения обязательств, которые должны быть обеспечены такой независимой гарантией, не менее чем на один месяц, в том числе в случае его изменения в соответствии со статьей 95 Фе Платежные реквизиты «Номер расчетного счета» 00000000000000000000 «Номер лицевого счета» См. прилагаемые документы «БИК» 000000000 \\\"Наименование кредитной организации\\\" \\\"Номер корреспондентского счета\\\" Дополнительная информация Информация отсутствует Информация о банковском и (или) казначейском\"\n",
        "doc = nlp(text)\n",
        "for entity in doc.ents:\n",
        "  if entity.label_ == \"обеспечение гарантийных обязательств\":\n",
        "    print(entity.text)"
      ],
      "metadata": {
        "colab": {
          "base_uri": "https://localhost:8080/"
        },
        "id": "34d_ivRvoCWE",
        "outputId": "d5bb073f-d82c-4a9b-88f9-0510ff96de08"
      },
      "execution_count": null,
      "outputs": [
        {
          "output_type": "stream",
          "name": "stdout",
          "text": [
            "Размер обеспечения гарантийных обязательств 6311.42 Российский рубль\n"
          ]
        }
      ]
    },
    {
      "cell_type": "markdown",
      "source": [
        "Выше показана одна из немногих фраз что подобученная модель научилась выделять из текста. В целом результат не так хорош как хотелось бы. Так что предсказания этой модели не использовались"
      ],
      "metadata": {
        "id": "4HtMfS9aoeTK"
      }
    },
    {
      "cell_type": "code",
      "source": [
        "!cp -r /content/my_model /content/drive/MyDrive/nlp_test_task_2023"
      ],
      "metadata": {
        "id": "tqrdQNDWosJ1"
      },
      "execution_count": null,
      "outputs": []
    }
  ]
}